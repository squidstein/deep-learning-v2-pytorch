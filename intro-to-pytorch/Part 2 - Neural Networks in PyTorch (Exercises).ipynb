{
 "cells": [
  {
   "cell_type": "markdown",
   "metadata": {},
   "source": [
    "# Neural networks with PyTorch\n",
    "\n",
    "Deep learning networks tend to be massive with dozens or hundreds of layers, that's where the term \"deep\" comes from. You can build one of these deep networks using only weight matrices as we did in the previous notebook, but in general it's very cumbersome and difficult to implement. PyTorch has a nice module `nn` that provides a nice way to efficiently build large neural networks."
   ]
  },
  {
   "cell_type": "code",
   "execution_count": 1,
   "metadata": {},
   "outputs": [],
   "source": [
    "# Import necessary packages\n",
    "\n",
    "%matplotlib inline\n",
    "%config InlineBackend.figure_format = 'retina'\n",
    "\n",
    "import numpy as np\n",
    "import torch\n",
    "\n",
    "import helper\n",
    "\n",
    "import matplotlib.pyplot as plt"
   ]
  },
  {
   "cell_type": "markdown",
   "metadata": {},
   "source": [
    "\n",
    "Now we're going to build a larger network that can solve a (formerly) difficult problem, identifying text in an image. Here we'll use the MNIST dataset which consists of greyscale handwritten digits. Each image is 28x28 pixels, you can see a sample below\n",
    "\n",
    "<img src='assets/mnist.png'>\n",
    "\n",
    "Our goal is to build a neural network that can take one of these images and predict the digit in the image.\n",
    "\n",
    "First up, we need to get our dataset. This is provided through the `torchvision` package. The code below will download the MNIST dataset, then create training and test datasets for us. Don't worry too much about the details here, you'll learn more about this later."
   ]
  },
  {
   "cell_type": "code",
   "execution_count": 2,
   "metadata": {},
   "outputs": [],
   "source": [
    "# The MNIST datasets are hosted on yann.lecun.com that has moved under CloudFlare protection\n",
    "# Run this script to enable the datasets download\n",
    "# Reference: https://github.com/pytorch/vision/issues/1938\n",
    "\n",
    "from six.moves import urllib\n",
    "opener = urllib.request.build_opener()\n",
    "opener.addheaders = [('User-agent', 'Mozilla/5.0')]\n",
    "urllib.request.install_opener(opener)"
   ]
  },
  {
   "cell_type": "code",
   "execution_count": 3,
   "metadata": {},
   "outputs": [
    {
     "name": "stdout",
     "output_type": "stream",
     "text": [
      "Downloading http://yann.lecun.com/exdb/mnist/train-images-idx3-ubyte.gz\n",
      "Downloading http://yann.lecun.com/exdb/mnist/train-images-idx3-ubyte.gz to /Users/lauran_kio/.pytorch/MNIST_data/MNIST/raw/train-images-idx3-ubyte.gz\n"
     ]
    },
    {
     "data": {
      "application/vnd.jupyter.widget-view+json": {
       "model_id": "19cf0c62c40e4337bedbb130ffb29da1",
       "version_major": 2,
       "version_minor": 0
      },
      "text/plain": [
       "  0%|          | 0/9912422 [00:00<?, ?it/s]"
      ]
     },
     "metadata": {},
     "output_type": "display_data"
    },
    {
     "name": "stdout",
     "output_type": "stream",
     "text": [
      "Extracting /Users/lauran_kio/.pytorch/MNIST_data/MNIST/raw/train-images-idx3-ubyte.gz to /Users/lauran_kio/.pytorch/MNIST_data/MNIST/raw\n",
      "\n",
      "Downloading http://yann.lecun.com/exdb/mnist/train-labels-idx1-ubyte.gz\n",
      "Downloading http://yann.lecun.com/exdb/mnist/train-labels-idx1-ubyte.gz to /Users/lauran_kio/.pytorch/MNIST_data/MNIST/raw/train-labels-idx1-ubyte.gz\n"
     ]
    },
    {
     "data": {
      "application/vnd.jupyter.widget-view+json": {
       "model_id": "07a28d8ab7744e1098f9701b3292fc39",
       "version_major": 2,
       "version_minor": 0
      },
      "text/plain": [
       "  0%|          | 0/28881 [00:00<?, ?it/s]"
      ]
     },
     "metadata": {},
     "output_type": "display_data"
    },
    {
     "name": "stdout",
     "output_type": "stream",
     "text": [
      "Extracting /Users/lauran_kio/.pytorch/MNIST_data/MNIST/raw/train-labels-idx1-ubyte.gz to /Users/lauran_kio/.pytorch/MNIST_data/MNIST/raw\n",
      "\n",
      "Downloading http://yann.lecun.com/exdb/mnist/t10k-images-idx3-ubyte.gz\n",
      "Downloading http://yann.lecun.com/exdb/mnist/t10k-images-idx3-ubyte.gz to /Users/lauran_kio/.pytorch/MNIST_data/MNIST/raw/t10k-images-idx3-ubyte.gz\n"
     ]
    },
    {
     "data": {
      "application/vnd.jupyter.widget-view+json": {
       "model_id": "c81bc6522a694259817d4b4bc9fba1be",
       "version_major": 2,
       "version_minor": 0
      },
      "text/plain": [
       "  0%|          | 0/1648877 [00:00<?, ?it/s]"
      ]
     },
     "metadata": {},
     "output_type": "display_data"
    },
    {
     "name": "stdout",
     "output_type": "stream",
     "text": [
      "Extracting /Users/lauran_kio/.pytorch/MNIST_data/MNIST/raw/t10k-images-idx3-ubyte.gz to /Users/lauran_kio/.pytorch/MNIST_data/MNIST/raw\n",
      "\n",
      "Downloading http://yann.lecun.com/exdb/mnist/t10k-labels-idx1-ubyte.gz\n",
      "Downloading http://yann.lecun.com/exdb/mnist/t10k-labels-idx1-ubyte.gz to /Users/lauran_kio/.pytorch/MNIST_data/MNIST/raw/t10k-labels-idx1-ubyte.gz\n"
     ]
    },
    {
     "data": {
      "application/vnd.jupyter.widget-view+json": {
       "model_id": "c00a57f4d317492b8ce3ff4245729215",
       "version_major": 2,
       "version_minor": 0
      },
      "text/plain": [
       "  0%|          | 0/4542 [00:00<?, ?it/s]"
      ]
     },
     "metadata": {},
     "output_type": "display_data"
    },
    {
     "name": "stdout",
     "output_type": "stream",
     "text": [
      "Extracting /Users/lauran_kio/.pytorch/MNIST_data/MNIST/raw/t10k-labels-idx1-ubyte.gz to /Users/lauran_kio/.pytorch/MNIST_data/MNIST/raw\n",
      "\n"
     ]
    }
   ],
   "source": [
    "### Run this cell\n",
    "\n",
    "from torchvision import datasets, transforms\n",
    "\n",
    "# Define a transform to normalize the data\n",
    "transform = transforms.Compose([transforms.ToTensor(),\n",
    "                              transforms.Normalize((0.5,), (0.5,)),\n",
    "                              ])\n",
    "\n",
    "# Download and load the training data\n",
    "trainset = datasets.MNIST('~/.pytorch/MNIST_data/', download=True, train=True, transform=transform)\n",
    "trainloader = torch.utils.data.DataLoader(trainset, batch_size=64, shuffle=True)"
   ]
  },
  {
   "cell_type": "markdown",
   "metadata": {},
   "source": [
    "We have the training data loaded into `trainloader` and we make that an iterator with `iter(trainloader)`. Later, we'll use this to loop through the dataset for training, like\n",
    "\n",
    "```python\n",
    "for image, label in trainloader:\n",
    "    ## do things with images and labels\n",
    "```\n",
    "\n",
    "You'll notice I created the `trainloader` with a batch size of 64, and `shuffle=True`. The batch size is the number of images we get in one iteration from the data loader and pass through our network, often called a *batch*. And `shuffle=True` tells it to shuffle the dataset every time we start going through the data loader again. But here I'm just grabbing the first batch so we can check out the data. We can see below that `images` is just a tensor with size `(64, 1, 28, 28)`. So, 64 images per batch, 1 color channel, and 28x28 images."
   ]
  },
  {
   "cell_type": "code",
   "execution_count": 6,
   "metadata": {},
   "outputs": [
    {
     "name": "stdout",
     "output_type": "stream",
     "text": [
      "<class 'torch.Tensor'>\n",
      "torch.Size([64, 1, 28, 28])\n",
      "torch.Size([64])\n"
     ]
    }
   ],
   "source": [
    "dataiter = iter(trainloader)\n",
    "images, labels = next(dataiter)\n",
    "print(type(images))\n",
    "print(images.shape)\n",
    "print(labels.shape)"
   ]
  },
  {
   "cell_type": "markdown",
   "metadata": {},
   "source": [
    "This is what one of the images looks like. "
   ]
  },
  {
   "cell_type": "code",
   "execution_count": 5,
   "metadata": {},
   "outputs": [
    {
     "data": {
      "image/png": "[encoded data removed]",
      "text/plain": [
       "<Figure size 640x480 with 1 Axes>"
      ]
     },
     "metadata": {
      "image/png": {
       "height": 413,
       "width": 416
      }
     },
     "output_type": "display_data"
    }
   ],
   "source": [
    "plt.imshow(images[1].numpy().squeeze(), cmap='Greys_r');"
   ]
  },
  {
   "cell_type": "markdown",
   "metadata": {},
   "source": [
    "First, let's try to build a simple network for this dataset using weight matrices and matrix multiplications. Then, we'll see how to do it using PyTorch's `nn` module which provides a much more convenient and powerful method for defining network architectures.\n",
    "\n",
    "The networks you've seen so far are called *fully-connected* or *dense* networks. Each unit in one layer is connected to each unit in the next layer. In fully-connected networks, the input to each layer must be a one-dimensional vector (which can be stacked into a 2D tensor as a batch of multiple examples). However, our images are 28x28 2D tensors, so we need to convert them into 1D vectors. Thinking about sizes, we need to convert the batch of images with shape `(64, 1, 28, 28)` to a have a shape of `(64, 784)`, 784 is 28 times 28. This is typically called *flattening*, we flattened the 2D images into 1D vectors.\n",
    "\n",
    "Previously you built a network with one output unit. Here we need 10 output units, one for each digit. We want our network to predict the digit shown in an image, so what we'll do is calculate probabilities that the image is of any one digit or class. This ends up being a discrete probability distribution over the classes (digits) that tells us the most likely class for the image. That means we need 10 output units for the 10 classes (digits). We'll see how to convert the network output into a probability distribution next.\n",
    "\n",
    "> **Exercise:** Flatten the batch of images `images`. Then build a multi-layer network with 784 input units, 256 hidden units, and 10 output units using random tensors for the weights and biases. For now, use a sigmoid activation for the hidden layer. Leave the output layer without an activation, we'll add one that gives us a probability distribution next."
   ]
  },
  {
   "cell_type": "code",
   "execution_count": 11,
   "metadata": {},
   "outputs": [
    {
     "data": {
      "text/plain": [
       "torch.Size([64, 1, 28, 28])"
      ]
     },
     "execution_count": 11,
     "metadata": {},
     "output_type": "execute_result"
    }
   ],
   "source": [
    "images.shape"
   ]
  },
  {
   "cell_type": "code",
   "execution_count": 21,
   "metadata": {
    "scrolled": true
   },
   "outputs": [
    {
     "data": {
      "text/plain": [
       "torch.Size([64, 784])"
      ]
     },
     "execution_count": 21,
     "metadata": {},
     "output_type": "execute_result"
    }
   ],
   "source": [
    "#flat_images = images.view(64, 784)\n",
    "# how he does it - preserve 64 batches, the -1 is a shortcut:\n",
    "flat_images = images.view(images.shape[0], -1)\n",
    "flat_images.shape"
   ]
  },
  {
   "cell_type": "code",
   "execution_count": 22,
   "metadata": {},
   "outputs": [
    {
     "name": "stdout",
     "output_type": "stream",
     "text": [
      "784\n",
      "W1:\n",
      "torch.Size([784, 256])\n",
      "W2:\n",
      "torch.Size([256, 10])\n",
      "B1:\n",
      "torch.Size([1, 256])\n",
      "B2:\n",
      "torch.Size([1, 10])\n"
     ]
    }
   ],
   "source": [
    "## Your solution\n",
    "# Features are 64 flattened images - i.e. 64 sets of 784 pixels\n",
    "features = flat_images\n",
    "\n",
    "# Define the size of each layer in our network\n",
    "n_input = features.shape[1]     # Number of input units, must match number of input features\n",
    "n_hidden = 256                    # Number of hidden units \n",
    "n_output = 10                    # Number of output units\n",
    "\n",
    "# Weights for inputs to hidden layer\n",
    "W1 = torch.randn(n_input, n_hidden)\n",
    "# Weights for hidden layer to output layer\n",
    "W2 = torch.randn(n_hidden, n_output)\n",
    "\n",
    "# and bias terms for hidden and output layers\n",
    "B1 = torch.randn((1, n_hidden))\n",
    "B2 = torch.randn((1, n_output))\n",
    "\n",
    "print(features.shape[1])\n",
    "print('W1:')\n",
    "print(W1.shape)\n",
    "print('W2:')\n",
    "print(W2.shape)\n",
    "\n",
    "print('B1:')\n",
    "print(B1.shape)\n",
    "print('B2:')\n",
    "print(B2.shape)"
   ]
  },
  {
   "cell_type": "code",
   "execution_count": 27,
   "metadata": {},
   "outputs": [
    {
     "name": "stdout",
     "output_type": "stream",
     "text": [
      "tensor([[-2.2596e+01,  3.3471e+00, -1.5141e+01, -4.6569e+00, -7.3915e-01,\n",
      "          3.5427e-01,  1.0612e+01, -5.9828e+00,  1.2852e+00,  1.0275e+01],\n",
      "        [-1.1234e+01,  1.3371e-01, -5.3940e+00, -9.1162e+00, -3.0407e+00,\n",
      "          3.5531e+00, -2.6143e+00,  5.1051e-02, -3.2171e+00,  1.9057e+00],\n",
      "        [-1.5501e+01, -6.3186e+00, -2.6335e+00, -3.6509e+00,  2.5711e+00,\n",
      "          1.6363e+00, -2.8339e+00, -6.1213e-01,  3.0440e+00,  1.3251e+00],\n",
      "        [-3.8376e+00,  3.7495e+00,  3.2222e+00,  1.3087e+01, -7.5826e+00,\n",
      "          1.7859e+01,  6.5658e-01, -1.1405e+01, -6.4302e+00,  1.0326e+01],\n",
      "        [-2.6417e+00,  1.2860e+01, -5.5199e+00, -3.6722e+00,  7.7338e+00,\n",
      "          1.0771e+01,  8.5486e+00, -5.5651e+00, -1.6102e+01,  1.3104e+01],\n",
      "        [-1.5463e+01,  2.9444e+00, -6.5196e+00,  4.2681e+00, -4.5254e+00,\n",
      "          1.0844e+01,  1.0197e+01, -1.3493e+01, -6.6585e+00,  8.5096e+00],\n",
      "        [-2.0180e+01, -3.3524e+00, -1.1630e+01,  4.7548e+00,  2.1875e+00,\n",
      "         -1.3793e+00, -1.7742e+00, -1.8727e+00, -4.3389e-01,  9.4889e+00],\n",
      "        [-2.2134e+01, -4.0422e+00, -2.6404e+00, -3.0880e+00,  4.8958e+00,\n",
      "          8.6402e+00, -3.2216e+00,  7.3195e-01, -1.1257e+00,  5.1275e+00],\n",
      "        [-1.7356e+01,  1.1144e+01, -1.1835e+01,  2.1915e+00, -7.9887e+00,\n",
      "          1.0737e+01,  3.3043e+00,  3.0230e-01, -9.6187e+00,  1.0529e+01],\n",
      "        [-1.6034e+01, -8.9272e+00, -7.4903e+00, -1.5554e+01,  1.2688e+00,\n",
      "          1.0505e+01,  1.6297e+00,  1.4717e+00, -1.9717e+00,  1.2099e+01],\n",
      "        [-1.6826e+01, -6.6223e+00, -8.7838e+00, -8.1652e+00,  2.2003e+00,\n",
      "          7.2115e+00, -6.9505e+00,  1.6725e+00, -6.5727e+00,  9.9512e-01],\n",
      "        [-1.6812e+01,  5.0591e+00,  3.1747e+00,  2.0959e+00,  4.2146e+00,\n",
      "          9.1861e+00,  4.7155e+00, -5.3289e+00, -4.3272e+00,  8.9504e+00],\n",
      "        [-1.5116e+01,  1.3482e+00, -1.8896e+00, -4.7229e+00,  4.0491e+00,\n",
      "          9.6792e+00,  4.7893e+00, -1.7660e+00, -6.6719e+00,  6.4596e+00],\n",
      "        [-1.5724e+01, -5.9393e+00, -2.6830e+00, -8.3089e-01,  7.6144e+00,\n",
      "          1.0548e+01, -6.6601e+00, -2.8529e+00,  9.0715e-01,  4.4833e+00],\n",
      "        [-1.6376e+01, -3.5943e+00, -9.9578e+00,  3.1730e+00, -3.5548e-01,\n",
      "          7.1310e+00,  4.3084e+00, -1.0470e+01, -7.5531e+00,  6.1900e+00],\n",
      "        [-1.8337e+01, -5.4947e-01, -8.8896e+00, -1.6552e+00, -9.1720e-01,\n",
      "          5.2843e+00,  1.2466e+01, -4.7366e+00, -1.3570e+00,  7.2094e+00],\n",
      "        [-1.3008e+01,  1.3959e+00, -2.8363e+00, -1.4176e+00,  6.4541e+00,\n",
      "          1.2887e+01, -4.0439e-01, -2.2561e-01, -3.0706e+00,  4.3935e+00],\n",
      "        [-1.5400e+01, -2.0484e+00,  1.4223e-01, -6.5816e+00, -5.9173e+00,\n",
      "          3.8385e+00, -2.9021e+00, -8.4239e+00, -4.9811e+00,  8.5305e+00],\n",
      "        [-2.2702e+01, -1.9675e-01, -9.0228e+00, -9.1724e+00, -3.3462e+00,\n",
      "          1.3501e+01, -4.4641e+00, -3.7041e+00, -9.2382e-01, -4.0488e+00],\n",
      "        [-1.4164e+01,  2.9909e+00, -2.8602e+00, -4.3243e+00,  6.3398e+00,\n",
      "          1.4261e+01,  8.1808e+00, -1.1762e+01,  5.4288e-01,  1.2238e+01],\n",
      "        [-1.4291e+01,  4.6509e+00,  6.4201e-01, -9.3156e+00, -7.3634e+00,\n",
      "          8.0913e+00,  9.0476e+00, -4.8521e+00, -2.5178e+00,  1.6886e+01],\n",
      "        [-2.5374e+01, -4.6375e+00, -1.0194e+01, -2.9032e+00,  9.8872e+00,\n",
      "          1.0732e+00,  4.8216e+00, -8.8971e-02,  5.1914e+00,  5.1508e+00],\n",
      "        [-2.1586e+00, -4.9398e+00, -7.1705e+00,  4.7449e+00,  3.4405e+00,\n",
      "          1.6824e+01, -4.2579e+00, -1.7183e+01,  4.0561e-01,  9.5346e+00],\n",
      "        [-1.0428e+01, -6.1717e-01, -4.7701e+00, -1.8915e+00,  5.6073e+00,\n",
      "         -1.6368e+00,  1.6955e+00,  8.8345e-01, -7.9099e+00,  1.1145e+01],\n",
      "        [-1.4731e+01,  4.1276e+00, -1.1817e+01, -2.0392e+00, -1.2877e+00,\n",
      "          1.2231e+01,  8.7986e+00, -9.9461e+00,  1.0179e+00,  8.1832e+00],\n",
      "        [-1.6321e+01, -2.6791e+00,  5.2142e+00, -7.0418e+00, -2.9345e+00,\n",
      "          9.1796e+00,  4.8605e+00, -2.2323e+00,  7.9203e-01,  1.1879e+00],\n",
      "        [-2.0134e+01,  1.1377e-01, -6.6382e+00, -5.0432e+00, -4.3081e+00,\n",
      "          1.5027e+01,  6.3923e-01, -5.3658e+00, -6.5321e+00,  3.9153e+00],\n",
      "        [-1.2408e+01, -1.8695e+00, -9.1025e+00, -3.7337e+00,  3.4088e+00,\n",
      "          6.8908e+00,  1.1919e+01, -8.9117e+00, -1.0168e+01,  1.0034e+01],\n",
      "        [-1.6995e+01, -2.7582e+00, -4.4257e+00, -1.0400e+01,  5.6845e+00,\n",
      "         -2.0309e+00,  6.2826e+00, -4.9464e+00,  1.2095e+00, -1.2866e+00],\n",
      "        [-1.7588e+01, -8.8461e+00, -5.3884e+00, -2.3148e+00,  2.9517e+00,\n",
      "          5.1907e+00, -4.0156e+00,  1.9964e+00, -3.9421e+00,  7.1174e+00],\n",
      "        [-1.9871e+01,  3.0252e+00, -3.6972e+00, -4.1008e+00,  3.1380e+00,\n",
      "          1.0731e+01, -4.6339e+00, -5.5789e-01,  1.0396e+00,  6.9344e+00],\n",
      "        [-1.2970e+01,  4.4703e-02, -2.1886e-01, -9.9997e+00, -3.5515e+00,\n",
      "          1.1846e+01,  4.9082e+00, -5.8669e+00, -9.9197e-01,  8.7299e-02],\n",
      "        [-1.8920e+01,  6.3834e-02, -7.3334e+00, -5.2075e+00, -2.0697e+00,\n",
      "          7.2714e-01,  1.2388e+01, -1.7838e+00,  5.6106e-01,  1.5623e+01],\n",
      "        [-1.6931e+01, -4.2861e+00, -5.2570e+00, -2.4105e+00, -6.9648e-01,\n",
      "          7.8676e+00, -1.8047e+00, -5.0469e-01,  1.8315e+00,  9.3154e-01],\n",
      "        [-1.9297e+01,  1.0690e+00, -1.2528e+01, -1.0716e+01, -4.5852e-01,\n",
      "          5.1588e-01, -3.6929e+00, -1.8224e+00,  3.5431e+00,  2.2247e+00],\n",
      "        [-1.8659e+01, -7.9581e-02, -1.2759e+01, -1.1354e+01, -4.2370e-01,\n",
      "          6.8845e+00,  3.2992e+00, -9.0139e+00, -7.6447e-01,  6.3850e+00],\n",
      "        [-7.7177e+00, -6.5003e+00, -7.3977e+00, -4.7870e+00, -1.1925e-01,\n",
      "          1.4006e+01, -3.3732e+00, -1.2506e+01, -1.1320e+01,  7.4836e+00],\n",
      "        [-1.3714e+01,  3.6515e+00, -1.1804e+01, -9.6163e+00,  2.7252e+00,\n",
      "          8.8621e+00,  2.6073e+00,  2.4474e-01, -5.2097e+00,  2.1347e+00],\n",
      "        [-1.5357e+01,  4.4423e+00, -4.4351e+00, -3.1764e+00, -9.5588e+00,\n",
      "          1.0638e+01,  1.5377e+00, -1.7636e+00, -1.2962e+00,  4.4330e+00],\n",
      "        [-1.4194e+01, -2.2424e+00, -5.9039e+00, -9.5455e+00, -9.3514e-02,\n",
      "          1.6637e+01,  5.7607e+00, -5.2549e+00, -3.0350e+00,  1.2587e+01],\n",
      "        [-6.9596e+00,  1.6553e+00, -4.9330e+00, -5.0038e+00, -9.8803e+00,\n",
      "          7.0006e+00, -1.4705e+00,  1.4290e+00,  2.9757e+00,  1.0971e+01],\n",
      "        [-1.1324e+01, -5.9063e+00, -9.0526e+00, -2.0306e+00,  3.1284e+00,\n",
      "          8.6041e+00,  4.6726e-02, -2.5638e+00, -7.7264e-01,  6.1603e+00],\n",
      "        [-1.7226e+01, -6.3600e-01, -2.7800e+00, -2.7665e+00,  4.9251e+00,\n",
      "          5.0149e+00,  2.3539e+00, -5.5863e+00, -6.0411e+00,  1.2137e+01],\n",
      "        [-1.6541e+01,  6.0139e+00, -9.5697e+00, -1.2507e+01,  4.5382e+00,\n",
      "          1.5426e+01,  6.2376e+00, -1.0420e+01,  2.6840e-01,  1.1352e+01],\n",
      "        [-1.6256e+01, -1.2592e+00, -8.6190e+00, -4.6380e+00, -3.0935e+00,\n",
      "          4.2377e+00, -4.7835e+00, -1.8256e+00,  3.3011e+00,  1.7126e+00],\n",
      "        [-7.3280e+00,  8.8575e+00, -7.7834e+00, -1.0155e+01, -9.3486e+00,\n",
      "          1.8792e+01,  3.5015e+00, -1.6321e+00,  3.9475e+00,  5.3638e+00],\n",
      "        [-1.6138e+01, -1.4600e+00, -3.1067e+00, -4.3686e+00, -4.1963e+00,\n",
      "          1.9682e+01, -7.2770e+00,  6.8161e-01, -7.8573e+00,  4.8008e+00],\n",
      "        [-8.4761e+00, -9.0184e+00,  4.5287e+00, -8.5841e+00, -3.9381e+00,\n",
      "          1.0689e+01,  3.4833e+00,  9.8999e-02, -1.5890e+00,  3.9777e+00],\n",
      "        [-4.8518e+00, -2.5035e+00, -1.9658e+00, -5.5825e+00, -1.4602e+00,\n",
      "          2.7683e+00, -1.3647e+00,  1.1480e+00, -1.3958e+01,  1.5493e+01],\n",
      "        [-1.8135e+01,  1.5730e-01, -8.3430e+00, -9.7625e+00, -7.7970e-01,\n",
      "          8.9337e+00,  5.6999e+00, -4.4603e+00,  2.7113e+00,  7.4707e+00],\n",
      "        [-1.8134e+01, -4.9895e+00, -3.2487e+00, -2.9070e+00,  2.4037e+00,\n",
      "          1.6271e+01,  1.3685e+01, -1.0264e+01, -1.8298e+00,  2.0362e+01],\n",
      "        [-1.5908e+01,  4.8842e+00,  8.4732e-01,  1.8932e+00,  3.0066e+00,\n",
      "          7.4440e+00,  9.0619e+00, -8.2517e+00, -9.3959e+00,  1.2553e+01],\n",
      "        [-1.7116e+01,  4.3273e+00, -1.2436e+01, -2.1778e+00,  2.6579e+00,\n",
      "          1.3700e+01, -6.5848e+00, -7.7065e-01,  2.3850e+00,  1.2516e+01],\n",
      "        [-1.7832e+01, -3.2054e+00, -2.5311e+00, -1.0658e+01, -8.5845e+00,\n",
      "          9.4352e-01, -4.4109e+00,  4.0367e+00, -9.6608e-01,  4.1975e+00],\n",
      "        [-1.9085e+01, -2.3049e+00,  1.0164e+00, -6.5492e+00,  1.0070e+01,\n",
      "          8.5317e+00, -7.0122e+00, -1.7321e+00,  6.2054e-01,  6.1576e+00],\n",
      "        [-1.7266e+01, -2.5976e+00, -7.8169e+00, -1.8447e-02,  3.4028e+00,\n",
      "          3.8896e+00,  1.4496e+00, -1.0950e+00, -5.8418e-01,  6.0366e+00],\n",
      "        [-8.7569e+00, -8.9636e-01, -8.3375e+00, -7.5194e+00, -2.3121e+00,\n",
      "          6.1531e+00,  8.6980e-01, -8.2687e+00, -3.4816e-01,  6.1326e+00],\n",
      "        [-1.5722e+01, -7.7217e+00,  3.6673e+00,  4.9558e-01,  4.5139e+00,\n",
      "          7.1349e+00,  1.3409e+00, -4.2418e-01,  3.9490e+00,  4.5744e+00],\n",
      "        [-1.7457e+01,  5.7479e+00, -4.1837e+00, -5.2286e+00,  1.1205e+01,\n",
      "          1.5766e+01, -2.2557e+00, -4.5692e+00, -5.1648e+00,  4.5063e+00],\n",
      "        [-2.8329e+01, -2.8948e+00, -5.1939e+00, -7.8570e+00,  1.7007e-01,\n",
      "          1.4690e+01,  4.1289e+00, -9.7048e+00, -7.4872e-01,  9.1911e+00],\n",
      "        [-1.5258e+01, -3.2571e+00,  6.8666e-01, -8.3413e+00, -2.6016e+00,\n",
      "          1.3905e+01,  3.3230e+00, -8.0411e+00, -9.7631e-02,  3.4042e-01],\n",
      "        [-2.0418e+01, -8.5049e+00,  2.1064e-01, -5.1685e+00,  6.0007e+00,\n",
      "          3.6826e+00, -6.0693e+00, -3.2403e+00, -2.3587e+00,  2.3991e+00],\n",
      "        [-1.5771e+01, -7.5255e+00,  7.9146e-01, -3.3284e+00, -1.1204e+01,\n",
      "          1.4574e+01, -1.9630e+00, -1.2314e+01, -7.1318e+00,  5.9071e+00],\n",
      "        [-2.4326e+01,  4.3517e+00, -1.0350e+01, -7.5624e-01, -9.3213e-01,\n",
      "          1.3031e+00,  1.1628e+01, -1.2766e+00, -7.2231e+00,  2.7372e+00]])\n"
     ]
    }
   ],
   "source": [
    "#Activation function for the hidden layer:\n",
    "def hidden_act(x):\n",
    "    '''\n",
    "    This is the activation function for the hidden layer.\n",
    "    We will use sigmoid, per exercise instructions\n",
    "    x: Torch.tensor\n",
    "    '''\n",
    "    return 1/(1+torch.exp(-x))\n",
    "\n",
    "def output_act(x):\n",
    "    '''\n",
    "    this is the activation function for the output.\n",
    "    We will not write it yet.\n",
    "    '''\n",
    "    return x\n",
    "# hidden layer:\n",
    "h = hidden_act(torch.mm(features, W1)+B1)\n",
    "# output layer is just the sum, since we didn't do the activation function yet:\n",
    "out = torch.mm(h, W2)+B2\n",
    "# output of your network, should have shape (64,10)\n",
    "out.shape\n",
    "print(out)"
   ]
  },
  {
   "cell_type": "markdown",
   "metadata": {},
   "source": [
    "Now we have 10 outputs for our network. We want to pass in an image to our network and get out a probability distribution over the classes that tells us the likely class(es) the image belongs to. Something that looks like this:\n",
    "<img src='assets/image_distribution.png' width=500px>\n",
    "\n",
    "Here we see that the probability for each class is roughly the same. This is representing an untrained network, it hasn't seen any data yet so it just returns a uniform distribution with equal probabilities for each class.\n",
    "\n",
    "To calculate this probability distribution, we often use the [**softmax** function](https://en.wikipedia.org/wiki/Softmax_function). Mathematically this looks like\n",
    "\n",
    "$$\n",
    "\\Large \\sigma(x_i) = \\cfrac{e^{x_i}}{\\sum_k^K{e^{x_k}}}\n",
    "$$\n",
    "\n",
    "What this does is squish each input $x_i$ between 0 and 1 and normalizes the values to give you a proper probability distribution where the probabilites sum up to one.\n",
    "\n",
    "> **Exercise:** Implement a function `softmax` that performs the softmax calculation and returns probability distributions for each example in the batch. Note that you'll need to pay attention to the shapes when doing this. If you have a tensor `a` with shape `(64, 10)` and a tensor `b` with shape `(64,)`, doing `a/b` will give you an error because PyTorch will try to do the division across the columns (called broadcasting) but you'll get a size mismatch. The way to think about this is for each of the 64 examples, you only want to divide by one value, the sum in the denominator. So you need `b` to have a shape of `(64, 1)`. This way PyTorch will divide the 10 values in each row of `a` by the one value in each row of `b`. Pay attention to how you take the sum as well. You'll need to define the `dim` keyword in `torch.sum`. Setting `dim=0` takes the sum across the rows while `dim=1` takes the sum across the columns."
   ]
  },
  {
   "cell_type": "code",
   "execution_count": null,
   "metadata": {
    "collapsed": true
   },
   "outputs": [],
   "source": [
    "def softmax(x):\n",
    "    ## TODO: Implement the softmax function here\n",
    "\n",
    "# Here, out should be the output of the network in the previous excercise with shape (64,10)\n",
    "probabilities = softmax(out)\n",
    "\n",
    "# Does it have the right shape? Should be (64, 10)\n",
    "print(probabilities.shape)\n",
    "# Does it sum to 1?\n",
    "print(probabilities.sum(dim=1))"
   ]
  },
  {
   "cell_type": "markdown",
   "metadata": {},
   "source": [
    "## Building networks with PyTorch\n",
    "\n",
    "PyTorch provides a module `nn` that makes building networks much simpler. Here I'll show you how to build the same one as above with 784 inputs, 256 hidden units, 10 output units and a softmax output."
   ]
  },
  {
   "cell_type": "code",
   "execution_count": null,
   "metadata": {
    "collapsed": true
   },
   "outputs": [],
   "source": [
    "from torch import nn"
   ]
  },
  {
   "cell_type": "code",
   "execution_count": null,
   "metadata": {
    "collapsed": true
   },
   "outputs": [],
   "source": [
    "class Network(nn.Module):\n",
    "    def __init__(self):\n",
    "        super().__init__()\n",
    "        \n",
    "        # Inputs to hidden layer linear transformation\n",
    "        self.hidden = nn.Linear(784, 256)\n",
    "        # Output layer, 10 units - one for each digit\n",
    "        self.output = nn.Linear(256, 10)\n",
    "        \n",
    "        # Define sigmoid activation and softmax output \n",
    "        self.sigmoid = nn.Sigmoid()\n",
    "        self.softmax = nn.Softmax(dim=1)\n",
    "        \n",
    "    def forward(self, x):\n",
    "        # Pass the input tensor through each of our operations\n",
    "        x = self.hidden(x)\n",
    "        x = self.sigmoid(x)\n",
    "        x = self.output(x)\n",
    "        x = self.softmax(x)\n",
    "        \n",
    "        return x"
   ]
  },
  {
   "cell_type": "markdown",
   "metadata": {},
   "source": [
    "Let's go through this bit by bit.\n",
    "\n",
    "```python\n",
    "class Network(nn.Module):\n",
    "```\n",
    "\n",
    "Here we're inheriting from `nn.Module`. Combined with `super().__init__()` this creates a class that tracks the architecture and provides a lot of useful methods and attributes. It is mandatory to inherit from `nn.Module` when you're creating a class for your network. The name of the class itself can be anything.\n",
    "\n",
    "```python\n",
    "self.hidden = nn.Linear(784, 256)\n",
    "```\n",
    "\n",
    "This line creates a module for a linear transformation, $x\\mathbf{W} + b$, with 784 inputs and 256 outputs and assigns it to `self.hidden`. The module automatically creates the weight and bias tensors which we'll use in the `forward` method. You can access the weight and bias tensors once the network (`net`) is created with `net.hidden.weight` and `net.hidden.bias`.\n",
    "\n",
    "```python\n",
    "self.output = nn.Linear(256, 10)\n",
    "```\n",
    "\n",
    "Similarly, this creates another linear transformation with 256 inputs and 10 outputs.\n",
    "\n",
    "```python\n",
    "self.sigmoid = nn.Sigmoid()\n",
    "self.softmax = nn.Softmax(dim=1)\n",
    "```\n",
    "\n",
    "Here I defined operations for the sigmoid activation and softmax output. Setting `dim=1` in `nn.Softmax(dim=1)` calculates softmax across the columns.\n",
    "\n",
    "```python\n",
    "def forward(self, x):\n",
    "```\n",
    "\n",
    "PyTorch networks created with `nn.Module` must have a `forward` method defined. It takes in a tensor `x` and passes it through the operations you defined in the `__init__` method.\n",
    "\n",
    "```python\n",
    "x = self.hidden(x)\n",
    "x = self.sigmoid(x)\n",
    "x = self.output(x)\n",
    "x = self.softmax(x)\n",
    "```\n",
    "\n",
    "Here the input tensor `x` is passed through each operation and reassigned to `x`. We can see that the input tensor goes through the hidden layer, then a sigmoid function, then the output layer, and finally the softmax function. It doesn't matter what you name the variables here, as long as the inputs and outputs of the operations match the network architecture you want to build. The order in which you define things in the `__init__` method doesn't matter, but you'll need to sequence the operations correctly in the `forward` method.\n",
    "\n",
    "Now we can create a `Network` object."
   ]
  },
  {
   "cell_type": "code",
   "execution_count": null,
   "metadata": {
    "collapsed": true
   },
   "outputs": [],
   "source": [
    "# Create the network and look at it's text representation\n",
    "model = Network()\n",
    "model"
   ]
  },
  {
   "cell_type": "markdown",
   "metadata": {},
   "source": [
    "You can define the network somewhat more concisely and clearly using the `torch.nn.functional` module. This is the most common way you'll see networks defined as many operations are simple element-wise functions. We normally import this module as `F`, `import torch.nn.functional as F`."
   ]
  },
  {
   "cell_type": "code",
   "execution_count": null,
   "metadata": {
    "collapsed": true
   },
   "outputs": [],
   "source": [
    "import torch.nn.functional as F\n",
    "\n",
    "class Network(nn.Module):\n",
    "    def __init__(self):\n",
    "        super().__init__()\n",
    "        # Inputs to hidden layer linear transformation\n",
    "        self.hidden = nn.Linear(784, 256)\n",
    "        # Output layer, 10 units - one for each digit\n",
    "        self.output = nn.Linear(256, 10)\n",
    "        \n",
    "    def forward(self, x):\n",
    "        # Hidden layer with sigmoid activation\n",
    "        x = F.sigmoid(self.hidden(x))\n",
    "        # Output layer with softmax activation\n",
    "        x = F.softmax(self.output(x), dim=1)\n",
    "        \n",
    "        return x"
   ]
  },
  {
   "cell_type": "markdown",
   "metadata": {},
   "source": [
    "### Activation functions\n",
    "\n",
    "So far we've only been looking at the sigmoid activation function, but in general any function can be used as an activation function. The only requirement is that for a network to approximate a non-linear function, the activation functions must be non-linear. Here are a few more examples of common activation functions: Tanh (hyperbolic tangent), and ReLU (rectified linear unit).\n",
    "\n",
    "<img src=\"assets/activation.png\" width=700px>\n",
    "\n",
    "In practice, the ReLU function is used almost exclusively as the activation function for hidden layers."
   ]
  },
  {
   "cell_type": "markdown",
   "metadata": {},
   "source": [
    "### Your Turn to Build a Network\n",
    "\n",
    "<img src=\"assets/mlp_mnist.png\" width=600px>\n",
    "\n",
    "> **Exercise:** Create a network with 784 input units, a hidden layer with 128 units and a ReLU activation, then a hidden layer with 64 units and a ReLU activation, and finally an output layer with a softmax activation as shown above. You can use a ReLU activation with the `nn.ReLU` module or `F.relu` function.\n",
    "\n",
    "It's good practice to name your layers by their type of network, for instance 'fc' to represent a fully-connected layer. As you code your solution, use `fc1`, `fc2`, and `fc3` as your layer names."
   ]
  },
  {
   "cell_type": "code",
   "execution_count": null,
   "metadata": {
    "collapsed": true,
    "scrolled": true
   },
   "outputs": [],
   "source": [
    "## Your solution here\n"
   ]
  },
  {
   "cell_type": "markdown",
   "metadata": {},
   "source": [
    "### Initializing weights and biases\n",
    "\n",
    "The weights and such are automatically initialized for you, but it's possible to customize how they are initialized. The weights and biases are tensors attached to the layer you defined, you can get them with `model.fc1.weight` for instance."
   ]
  },
  {
   "cell_type": "code",
   "execution_count": null,
   "metadata": {
    "collapsed": true
   },
   "outputs": [],
   "source": [
    "print(model.fc1.weight)\n",
    "print(model.fc1.bias)"
   ]
  },
  {
   "cell_type": "markdown",
   "metadata": {},
   "source": [
    "For custom initialization, we want to modify these tensors in place. These are actually autograd *Variables*, so we need to get back the actual tensors with `model.fc1.weight.data`. Once we have the tensors, we can fill them with zeros (for biases) or random normal values."
   ]
  },
  {
   "cell_type": "code",
   "execution_count": null,
   "metadata": {
    "collapsed": true
   },
   "outputs": [],
   "source": [
    "# Set biases to all zeros\n",
    "model.fc1.bias.data.fill_(0)"
   ]
  },
  {
   "cell_type": "code",
   "execution_count": null,
   "metadata": {
    "collapsed": true
   },
   "outputs": [],
   "source": [
    "# sample from random normal with standard dev = 0.01\n",
    "model.fc1.weight.data.normal_(std=0.01)"
   ]
  },
  {
   "cell_type": "markdown",
   "metadata": {},
   "source": [
    "### Forward pass\n",
    "\n",
    "Now that we have a network, let's see what happens when we pass in an image."
   ]
  },
  {
   "cell_type": "code",
   "execution_count": null,
   "metadata": {
    "collapsed": true
   },
   "outputs": [],
   "source": [
    "# Grab some data \n",
    "dataiter = iter(trainloader)\n",
    "images, labels = dataiter.next()\n",
    "\n",
    "# Resize images into a 1D vector, new shape is (batch size, color channels, image pixels) \n",
    "images.resize_(64, 1, 784)\n",
    "# or images.resize_(images.shape[0], 1, 784) to automatically get batch size\n",
    "\n",
    "# Forward pass through the network\n",
    "img_idx = 0\n",
    "ps = model.forward(images[img_idx,:])\n",
    "\n",
    "img = images[img_idx]\n",
    "helper.view_classify(img.view(1, 28, 28), ps)"
   ]
  },
  {
   "cell_type": "markdown",
   "metadata": {},
   "source": [
    "As you can see above, our network has basically no idea what this digit is. It's because we haven't trained it yet, all the weights are random!\n",
    "\n",
    "### Using `nn.Sequential`\n",
    "\n",
    "PyTorch provides a convenient way to build networks like this where a tensor is passed sequentially through operations, `nn.Sequential` ([documentation](https://pytorch.org/docs/master/nn.html#torch.nn.Sequential)). Using this to build the equivalent network:"
   ]
  },
  {
   "cell_type": "code",
   "execution_count": null,
   "metadata": {
    "collapsed": true
   },
   "outputs": [],
   "source": [
    "# Hyperparameters for our network\n",
    "input_size = 784\n",
    "hidden_sizes = [128, 64]\n",
    "output_size = 10\n",
    "\n",
    "# Build a feed-forward network\n",
    "model = nn.Sequential(nn.Linear(input_size, hidden_sizes[0]),\n",
    "                      nn.ReLU(),\n",
    "                      nn.Linear(hidden_sizes[0], hidden_sizes[1]),\n",
    "                      nn.ReLU(),\n",
    "                      nn.Linear(hidden_sizes[1], output_size),\n",
    "                      nn.Softmax(dim=1))\n",
    "print(model)\n",
    "\n",
    "# Forward pass through the network and display output\n",
    "images, labels = next(iter(trainloader))\n",
    "images.resize_(images.shape[0], 1, 784)\n",
    "ps = model.forward(images[0,:])\n",
    "helper.view_classify(images[0].view(1, 28, 28), ps)"
   ]
  },
  {
   "cell_type": "markdown",
   "metadata": {},
   "source": [
    "Here our model is the same as before: 784 input units, a hidden layer with 128 units, ReLU activation, 64 unit hidden layer, another ReLU, then the output layer with 10 units, and the softmax output.\n",
    "\n",
    "The operations are available by passing in the appropriate index. For example, if you want to get first Linear operation and look at the weights, you'd use `model[0]`."
   ]
  },
  {
   "cell_type": "code",
   "execution_count": null,
   "metadata": {
    "collapsed": true
   },
   "outputs": [],
   "source": [
    "print(model[0])\n",
    "model[0].weight"
   ]
  },
  {
   "cell_type": "markdown",
   "metadata": {},
   "source": [
    "You can also pass in an `OrderedDict` to name the individual layers and operations, instead of using incremental integers. Note that dictionary keys must be unique, so _each operation must have a different name_."
   ]
  },
  {
   "cell_type": "code",
   "execution_count": null,
   "metadata": {
    "collapsed": true
   },
   "outputs": [],
   "source": [
    "from collections import OrderedDict\n",
    "model = nn.Sequential(OrderedDict([\n",
    "                      ('fc1', nn.Linear(input_size, hidden_sizes[0])),\n",
    "                      ('relu1', nn.ReLU()),\n",
    "                      ('fc2', nn.Linear(hidden_sizes[0], hidden_sizes[1])),\n",
    "                      ('relu2', nn.ReLU()),\n",
    "                      ('output', nn.Linear(hidden_sizes[1], output_size)),\n",
    "                      ('softmax', nn.Softmax(dim=1))]))\n",
    "model"
   ]
  },
  {
   "cell_type": "markdown",
   "metadata": {},
   "source": [
    "Now you can access layers either by integer or the name"
   ]
  },
  {
   "cell_type": "code",
   "execution_count": null,
   "metadata": {
    "collapsed": true
   },
   "outputs": [],
   "source": [
    "print(model[0])\n",
    "print(model.fc1)"
   ]
  },
  {
   "cell_type": "markdown",
   "metadata": {},
   "source": [
    "In the next notebook, we'll see how we can train a neural network to accuractly predict the numbers appearing in the MNIST images."
   ]
  }
 ],
 "metadata": {
  "kernelspec": {
   "display_name": "Python 3 (ipykernel)",
   "language": "python",
   "name": "python3"
  },
  "language_info": {
   "codemirror_mode": {
    "name": "ipython",
    "version": 3
   },
   "file_extension": ".py",
   "mimetype": "text/x-python",
   "name": "python",
   "nbconvert_exporter": "python",
   "pygments_lexer": "ipython3",
   "version": "3.9.13"
  }
 },
 "nbformat": 4,
 "nbformat_minor": 2
}
