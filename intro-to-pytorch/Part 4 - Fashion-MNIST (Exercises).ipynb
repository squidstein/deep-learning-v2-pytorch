{
 "cells": [
  {
   "cell_type": "markdown",
   "metadata": {},
   "source": [
    "# Classifying Fashion-MNIST\n",
    "\n",
    "Now it's your turn to build and train a neural network. You'll be using the [Fashion-MNIST dataset](https://github.com/zalandoresearch/fashion-mnist), a drop-in replacement for the MNIST dataset. MNIST is actually quite trivial with neural networks where you can easily achieve better than 97% accuracy. Fashion-MNIST is a set of 28x28 greyscale images of clothes. It's more complex than MNIST, so it's a better representation of the actual performance of your network, and a better representation of datasets you'll use in the real world.\n",
    "\n",
    "<img src='assets/fashion-mnist-sprite.png' width=500px>\n",
    "\n",
    "In this notebook, you'll build your own neural network. For the most part, you could just copy and paste the code from Part 3, but you wouldn't be learning. It's important for you to write the code yourself and get it to work. Feel free to consult the previous notebooks though as you work through this.\n",
    "\n",
    "First off, let's load the dataset through torchvision."
   ]
  },
  {
   "cell_type": "code",
   "execution_count": 1,
   "metadata": {},
   "outputs": [
    {
     "name": "stdout",
     "output_type": "stream",
     "text": [
      "Downloading http://fashion-mnist.s3-website.eu-central-1.amazonaws.com/train-images-idx3-ubyte.gz\n",
      "Downloading http://fashion-mnist.s3-website.eu-central-1.amazonaws.com/train-images-idx3-ubyte.gz to /Users/lauran_kio/.pytorch/F_MNIST_data/FashionMNIST/raw/train-images-idx3-ubyte.gz\n"
     ]
    },
    {
     "data": {
      "application/vnd.jupyter.widget-view+json": {
       "model_id": "ca8e8705b53742bfbc7e7d6de0bd0a6a",
       "version_major": 2,
       "version_minor": 0
      },
      "text/plain": [
       "  0%|          | 0/26421880 [00:00<?, ?it/s]"
      ]
     },
     "metadata": {},
     "output_type": "display_data"
    },
    {
     "name": "stdout",
     "output_type": "stream",
     "text": [
      "Extracting /Users/lauran_kio/.pytorch/F_MNIST_data/FashionMNIST/raw/train-images-idx3-ubyte.gz to /Users/lauran_kio/.pytorch/F_MNIST_data/FashionMNIST/raw\n",
      "\n",
      "Downloading http://fashion-mnist.s3-website.eu-central-1.amazonaws.com/train-labels-idx1-ubyte.gz\n",
      "Downloading http://fashion-mnist.s3-website.eu-central-1.amazonaws.com/train-labels-idx1-ubyte.gz to /Users/lauran_kio/.pytorch/F_MNIST_data/FashionMNIST/raw/train-labels-idx1-ubyte.gz\n"
     ]
    },
    {
     "data": {
      "application/vnd.jupyter.widget-view+json": {
       "model_id": "b7c2fd2bba804c4aba2dd27e67541503",
       "version_major": 2,
       "version_minor": 0
      },
      "text/plain": [
       "  0%|          | 0/29515 [00:00<?, ?it/s]"
      ]
     },
     "metadata": {},
     "output_type": "display_data"
    },
    {
     "name": "stdout",
     "output_type": "stream",
     "text": [
      "Extracting /Users/lauran_kio/.pytorch/F_MNIST_data/FashionMNIST/raw/train-labels-idx1-ubyte.gz to /Users/lauran_kio/.pytorch/F_MNIST_data/FashionMNIST/raw\n",
      "\n",
      "Downloading http://fashion-mnist.s3-website.eu-central-1.amazonaws.com/t10k-images-idx3-ubyte.gz\n",
      "Downloading http://fashion-mnist.s3-website.eu-central-1.amazonaws.com/t10k-images-idx3-ubyte.gz to /Users/lauran_kio/.pytorch/F_MNIST_data/FashionMNIST/raw/t10k-images-idx3-ubyte.gz\n"
     ]
    },
    {
     "data": {
      "application/vnd.jupyter.widget-view+json": {
       "model_id": "a58cba1189904078918fd1cdb4a5238a",
       "version_major": 2,
       "version_minor": 0
      },
      "text/plain": [
       "  0%|          | 0/4422102 [00:00<?, ?it/s]"
      ]
     },
     "metadata": {},
     "output_type": "display_data"
    },
    {
     "name": "stdout",
     "output_type": "stream",
     "text": [
      "Extracting /Users/lauran_kio/.pytorch/F_MNIST_data/FashionMNIST/raw/t10k-images-idx3-ubyte.gz to /Users/lauran_kio/.pytorch/F_MNIST_data/FashionMNIST/raw\n",
      "\n",
      "Downloading http://fashion-mnist.s3-website.eu-central-1.amazonaws.com/t10k-labels-idx1-ubyte.gz\n",
      "Downloading http://fashion-mnist.s3-website.eu-central-1.amazonaws.com/t10k-labels-idx1-ubyte.gz to /Users/lauran_kio/.pytorch/F_MNIST_data/FashionMNIST/raw/t10k-labels-idx1-ubyte.gz\n"
     ]
    },
    {
     "data": {
      "application/vnd.jupyter.widget-view+json": {
       "model_id": "d9ddd1c3dea64ec9b80cbe710933baee",
       "version_major": 2,
       "version_minor": 0
      },
      "text/plain": [
       "  0%|          | 0/5148 [00:00<?, ?it/s]"
      ]
     },
     "metadata": {},
     "output_type": "display_data"
    },
    {
     "name": "stdout",
     "output_type": "stream",
     "text": [
      "Extracting /Users/lauran_kio/.pytorch/F_MNIST_data/FashionMNIST/raw/t10k-labels-idx1-ubyte.gz to /Users/lauran_kio/.pytorch/F_MNIST_data/FashionMNIST/raw\n",
      "\n"
     ]
    }
   ],
   "source": [
    "import torch\n",
    "from torchvision import datasets, transforms\n",
    "import helper\n",
    "\n",
    "# Define a transform to normalize the data\n",
    "transform = transforms.Compose([transforms.ToTensor(),\n",
    "                                transforms.Normalize((0.5,), (0.5,))])\n",
    "# Download and load the training data\n",
    "trainset = datasets.FashionMNIST('~/.pytorch/F_MNIST_data/', download=True, train=True, transform=transform)\n",
    "trainloader = torch.utils.data.DataLoader(trainset, batch_size=64, shuffle=True)\n",
    "\n",
    "# Download and load the test data\n",
    "testset = datasets.FashionMNIST('~/.pytorch/F_MNIST_data/', download=True, train=False, transform=transform)\n",
    "testloader = torch.utils.data.DataLoader(testset, batch_size=64, shuffle=True)"
   ]
  },
  {
   "cell_type": "markdown",
   "metadata": {},
   "source": [
    "Here we can see one of the images."
   ]
  },
  {
   "cell_type": "code",
   "execution_count": 8,
   "metadata": {
    "scrolled": true
   },
   "outputs": [
    {
     "data": {
      "image/png": "[encoded data removed]",
      "text/plain": [
       "<Figure size 640x480 with 1 Axes>"
      ]
     },
     "metadata": {
      "image/png": {
       "height": 389,
       "width": 389
      }
     },
     "output_type": "display_data"
    }
   ],
   "source": [
    "image, label = next(iter(trainloader))\n",
    "\n",
    "helper.imshow(image[0,:]);"
   ]
  },
  {
   "cell_type": "code",
   "execution_count": 13,
   "metadata": {},
   "outputs": [
    {
     "name": "stdout",
     "output_type": "stream",
     "text": [
      "<class 'torch.Tensor'>\n",
      "torch.Size([64, 1, 28, 28])\n",
      "tensor([[[-1.0000, -1.0000, -1.0000, -1.0000, -1.0000, -0.9922, -0.9922,\n",
      "          -1.0000, -0.9922, -1.0000, -1.0000, -0.5529, -0.6000, -1.0000,\n",
      "          -1.0000, -0.9922, -0.9765, -1.0000, -1.0000, -1.0000, -1.0000,\n",
      "          -1.0000, -1.0000, -1.0000, -1.0000, -1.0000, -1.0000, -1.0000],\n",
      "         [-1.0000, -1.0000, -1.0000, -1.0000, -1.0000, -0.9922, -0.9922,\n",
      "          -0.9843, -1.0000, -1.0000,  0.0824,  0.1529,  0.2000,  0.1294,\n",
      "          -1.0000, -1.0000, -0.9686, -1.0000, -1.0000, -1.0000, -1.0000,\n",
      "          -1.0000, -1.0000, -1.0000, -1.0000, -1.0000, -1.0000, -1.0000],\n",
      "         [-1.0000, -1.0000, -1.0000, -1.0000, -1.0000, -1.0000, -0.9922,\n",
      "          -0.9686, -1.0000,  0.0039,  0.1373, -1.0000, -1.0000, -0.1373,\n",
      "           0.0510, -1.0000, -0.9608, -1.0000, -1.0000, -1.0000, -1.0000,\n",
      "          -1.0000, -1.0000, -1.0000, -1.0000, -1.0000, -1.0000, -1.0000],\n",
      "         [-1.0000, -1.0000, -1.0000, -1.0000, -1.0000, -1.0000, -0.9765,\n",
      "          -1.0000, -0.7333,  0.3255, -1.0000, -0.9843, -1.0000, -1.0000,\n",
      "           0.3882, -0.9529, -1.0000, -0.9843, -1.0000, -1.0000, -1.0000,\n",
      "          -1.0000, -1.0000, -1.0000, -1.0000, -1.0000, -1.0000, -1.0000],\n",
      "         [-1.0000, -1.0000, -0.9843, -1.0000, -0.9922, -1.0000, -0.9373,\n",
      "          -1.0000,  0.3176, -0.4510, -1.0000, -0.9922, -0.9922, -1.0000,\n",
      "          -0.1373, -0.4745, -1.0000, -0.9608, -1.0000, -1.0000, -1.0000,\n",
      "          -0.9922, -1.0000, -1.0000, -1.0000, -0.9922, -1.0000, -1.0000],\n",
      "         [-1.0000, -0.9922, -1.0000, -1.0000, -1.0000, -1.0000, -0.9686,\n",
      "          -1.0000,  0.2157, -0.6078, -1.0000, -0.9765, -0.9843, -1.0000,\n",
      "          -0.1529, -0.1216, -1.0000, -0.9373, -1.0000, -1.0000, -1.0000,\n",
      "          -1.0000, -1.0000, -1.0000, -1.0000, -1.0000, -1.0000, -1.0000],\n",
      "         [-1.0000, -1.0000, -1.0000, -1.0000, -1.0000, -0.9765, -1.0000,\n",
      "          -0.9765,  0.3725, -0.9608, -1.0000, -0.9922, -0.9765, -1.0000,\n",
      "          -0.4745,  0.0196, -1.0000, -0.9216, -1.0000, -1.0000, -1.0000,\n",
      "          -1.0000, -1.0000, -1.0000, -1.0000, -1.0000, -1.0000, -1.0000],\n",
      "         [-1.0000, -1.0000, -0.9922, -1.0000, -1.0000, -0.9529, -1.0000,\n",
      "          -0.5373,  0.5294, -1.0000, -1.0000, -0.9922, -0.9843, -1.0000,\n",
      "          -0.6863,  0.1373, -1.0000, -0.9608, -1.0000, -1.0000, -1.0000,\n",
      "          -1.0000, -1.0000, -1.0000, -1.0000, -1.0000, -1.0000, -1.0000],\n",
      "         [-1.0000, -1.0000, -1.0000, -0.9922, -1.0000, -1.0000, -1.0000,\n",
      "          -0.1529,  0.3490, -1.0000, -1.0000, -0.9843, -1.0000, -1.0000,\n",
      "          -0.9059,  0.5922, -1.0000, -1.0000, -1.0000, -1.0000, -1.0000,\n",
      "          -1.0000, -1.0000, -1.0000, -1.0000, -1.0000, -1.0000, -1.0000],\n",
      "         [-1.0000, -1.0000, -1.0000, -0.9765, -0.9843, -0.9608, -1.0000,\n",
      "           0.1137,  0.6392, -1.0000, -1.0000, -1.0000, -1.0000, -1.0000,\n",
      "          -1.0000,  0.3725, -1.0000, -1.0000, -0.9686, -0.9843, -1.0000,\n",
      "          -1.0000, -1.0000, -1.0000, -1.0000, -1.0000, -1.0000, -1.0000],\n",
      "         [-1.0000, -1.0000, -0.9843, -1.0000, -1.0000, -1.0000, -1.0000,\n",
      "          -0.0745,  0.4275, -1.0000, -1.0000, -1.0000, -1.0000, -1.0000,\n",
      "          -1.0000,  0.1451, -1.0000, -1.0000, -1.0000, -1.0000, -1.0000,\n",
      "          -0.9686, -1.0000, -1.0000, -1.0000, -1.0000, -1.0000, -1.0000],\n",
      "         [-1.0000, -1.0000, -1.0000, -1.0000, -0.7020, -0.1843,  0.0588,\n",
      "           0.3098,  0.2706,  0.2706,  0.4039,  0.4275,  0.4588,  0.4510,\n",
      "           0.2706,  0.3255,  0.2392, -0.0118, -0.5294, -1.0000, -1.0000,\n",
      "          -1.0000, -1.0000, -0.9922, -1.0000, -1.0000, -1.0000, -1.0000],\n",
      "         [-1.0000, -1.0000, -1.0000,  0.5922,  0.6000,  0.3020,  0.4902,\n",
      "           0.3725,  0.2941,  0.3725,  0.3569,  0.3333,  0.3490,  0.4039,\n",
      "           0.4353,  0.3725,  0.4275,  0.4353,  0.1765,  0.4667,  0.0275,\n",
      "          -0.9922, -1.0000, -1.0000, -1.0000, -1.0000, -0.9922, -1.0000],\n",
      "         [-1.0000, -1.0000,  0.7490,  0.8275,  0.4118,  0.0039,  0.0824,\n",
      "           0.2549,  0.2863,  0.3255,  0.2863,  0.2471,  0.3255,  0.3882,\n",
      "           0.3176,  0.3255,  0.2157, -0.1686, -0.0118,  0.4510,  0.6706,\n",
      "           0.7098, -0.6549, -1.0000, -0.9686, -1.0000, -1.0000, -1.0000],\n",
      "         [-1.0000, -1.0000,  0.7804,  0.7098,  0.6000,  0.3490, -0.0353,\n",
      "          -0.0196,  0.2392,  0.2314,  0.1686,  0.2078,  0.3412,  0.4196,\n",
      "           0.2941,  0.2157, -0.0353, -0.1608,  0.3412,  0.5294,  0.5765,\n",
      "           0.8353, -0.4902, -1.0000, -0.9608, -0.9922, -1.0000, -1.0000],\n",
      "         [-1.0000, -1.0000,  0.6784,  0.7255,  0.6549,  0.5765,  0.1843,\n",
      "          -0.0588, -0.0039,  0.1216,  0.2314,  0.3176,  0.4039,  0.3412,\n",
      "           0.0667, -0.1059, -0.1294,  0.0980,  0.4510,  0.6471,  0.6235,\n",
      "           0.7961, -0.4118, -1.0000, -0.9529, -1.0000, -1.0000, -1.0000],\n",
      "         [-1.0000, -0.9373,  0.9922,  0.6549,  0.7020,  0.5843,  0.4667,\n",
      "           0.1686,  0.0196, -0.0510,  0.0902,  0.1843,  0.1216, -0.0275,\n",
      "          -0.1137, -0.1451,  0.0431,  0.3333,  0.5765,  0.6549,  0.6392,\n",
      "           0.8275, -0.1843, -1.0000, -0.9529, -0.9529, -0.9765, -1.0000],\n",
      "         [-1.0000, -0.9216,  0.9843,  0.6549,  0.6627,  0.6235,  0.5216,\n",
      "           0.3255,  0.2706, -0.0039, -0.1059, -0.1294, -0.1059, -0.0588,\n",
      "          -0.0039,  0.0510,  0.1765,  0.4588,  0.7098,  0.7804,  0.6941,\n",
      "           0.8588, -0.1529, -1.0000, -1.0000, -1.0000, -1.0000, -1.0000],\n",
      "         [-1.0000, -0.8353,  0.9843,  0.6392,  0.6549,  0.5294,  0.4980,\n",
      "           0.4431,  0.4118,  0.4902,  0.3333,  0.2471,  0.1294,  0.1922,\n",
      "           0.2863,  0.2863,  0.2627,  0.4118,  0.5137,  0.5765,  0.5059,\n",
      "           0.7725,  0.1686, -0.6078, -0.3804, -0.2549, -0.9843, -1.0000],\n",
      "         [-1.0000, -0.8039,  0.9765,  0.6314,  0.6392,  0.5843,  0.4902,\n",
      "           0.3882,  0.5451,  0.6235,  0.5765,  0.7569,  0.6157,  0.5137,\n",
      "           0.5059,  0.4980,  0.4196,  0.4980,  0.4353,  0.4118,  0.4275,\n",
      "           0.4353,  0.6471,  0.9059,  0.6471,  0.8275, -0.3804, -1.0000],\n",
      "         [-1.0000, -0.6157,  0.9765,  0.6235,  0.6078,  0.5843,  0.5059,\n",
      "           0.4431,  0.3647,  0.3412,  0.3882,  0.3569,  0.4275,  0.6235,\n",
      "           0.4824,  0.4902,  0.4667,  0.4510,  0.4196,  0.4275,  0.4745,\n",
      "           0.5059,  0.5216,  0.4588,  0.5059,  0.6627, -0.4039, -1.0000],\n",
      "         [-1.0000, -0.5294,  0.9765,  0.6000,  0.6235,  0.5686,  0.5216,\n",
      "           0.4667,  0.5216,  0.6157,  0.6784,  0.8745,  0.9529,  0.8039,\n",
      "           0.4275,  0.4275,  0.4118,  0.4118,  0.3961,  0.4196,  0.4510,\n",
      "           0.4902,  0.5294,  0.5686,  0.5137,  0.8824, -0.2706, -1.0000],\n",
      "         [-1.0000, -0.5608,  0.9686,  0.5686,  0.6157,  0.4902,  0.4510,\n",
      "           0.4588,  0.5843,  0.6000,  0.6549,  0.6941,  0.4196,  0.4588,\n",
      "           0.4667,  0.4745,  0.4431,  0.4588,  0.4667,  0.4745,  0.5059,\n",
      "           0.5216,  0.5137,  0.5294,  0.4824,  0.8275, -0.0353, -1.0000],\n",
      "         [-1.0000, -0.5373,  0.9686,  0.5216,  0.5843,  0.5294,  0.5216,\n",
      "           0.5216,  0.6000,  0.6549,  0.6471,  0.5686,  0.4745,  0.6471,\n",
      "           0.5294,  0.4745,  0.4353,  0.4980,  0.4824,  0.4902,  0.5294,\n",
      "           0.5608,  0.5451,  0.5686,  0.5059,  0.8118,  0.1137, -1.0000],\n",
      "         [-1.0000, -0.5922,  0.9686,  0.5843,  0.5529,  0.5529,  0.5529,\n",
      "           0.5686,  0.5843,  0.5922,  0.5843,  0.5843,  0.5843,  0.6157,\n",
      "           0.5294,  0.5451,  0.5451,  0.4980,  0.5216,  0.5294,  0.5529,\n",
      "           0.5686,  0.5529,  0.5765,  0.5294,  0.7882,  0.2627, -1.0000],\n",
      "         [-1.0000, -0.6471,  0.7333,  0.5294,  0.4980,  0.4353,  0.4431,\n",
      "           0.4431,  0.4118,  0.4588,  0.4745,  0.4353,  0.4510,  0.5529,\n",
      "           0.4902,  0.4745,  0.5059,  0.5294,  0.4902,  0.4980,  0.4902,\n",
      "           0.4980,  0.4980,  0.4980,  0.4510,  0.6235,  0.3412, -1.0000],\n",
      "         [-1.0000, -0.9529,  0.8745,  0.7255,  0.9373,  0.8980,  0.9137,\n",
      "           0.9294,  0.9294,  0.9451,  0.9608,  0.9529,  0.9686,  0.9529,\n",
      "           0.7333,  0.7098,  0.7020,  0.7176,  0.7569,  0.7804,  0.7961,\n",
      "           0.8196,  0.8745,  0.8824,  0.8510,  0.9608,  0.6941, -1.0000],\n",
      "         [-1.0000, -1.0000, -1.0000, -0.4745, -0.1373, -0.1373, -0.1608,\n",
      "          -0.2000, -0.2157, -0.2784, -0.2941, -0.3176, -0.3333, -0.2863,\n",
      "           0.0510,  0.1608,  0.0902,  0.0510,  0.0118, -0.0039, -0.0353,\n",
      "          -0.0667, -0.1294, -0.1529, -0.2078, -0.1294, -0.6549, -1.0000]]])\n",
      "torch.Size([64])\n",
      "tensor([4, 2, 3, 8, 0, 9, 5, 6, 3, 0, 4, 1, 2, 9, 0, 0, 7, 7, 0, 7, 5, 9, 8, 7,\n",
      "        3, 9, 6, 9, 7, 1, 7, 7, 0, 6, 2, 1, 7, 4, 3, 6, 9, 9, 9, 2, 0, 2, 7, 0,\n",
      "        6, 5, 9, 0, 6, 0, 2, 3, 1, 4, 8, 6, 6, 3, 0, 7])\n"
     ]
    }
   ],
   "source": [
    "#Make sure the tensor looks as expected!\n",
    "print(type(image))\n",
    "print(image.shape)\n",
    "print(image[3])\n",
    "print(label.shape)\n",
    "print(label)"
   ]
  },
  {
   "cell_type": "code",
   "execution_count": null,
   "metadata": {},
   "outputs": [],
   "source": []
  },
  {
   "cell_type": "markdown",
   "metadata": {},
   "source": [
    "## Building the network\n",
    "\n",
    "Here you should define your network. As with MNIST, each image is 28x28 which is a total of 784 pixels, and there are 10 classes. You should include at least one hidden layer. We suggest you use ReLU activations for the layers and to return the logits or log-softmax from the forward pass. It's up to you how many layers you add and the size of those layers."
   ]
  },
  {
   "cell_type": "code",
   "execution_count": 17,
   "metadata": {},
   "outputs": [],
   "source": [
    "# Imports\n",
    "\n",
    "%matplotlib inline\n",
    "%config InlineBackend.figure_format = 'retina'\n",
    "\n",
    "import numpy as np\n",
    "import torch\n",
    "from torch import nn\n",
    "import helper\n",
    "\n",
    "import matplotlib.pyplot as plt\n",
    "\n",
    "import torch.nn.functional as F\n"
   ]
  },
  {
   "cell_type": "code",
   "execution_count": null,
   "metadata": {},
   "outputs": [],
   "source": []
  },
  {
   "cell_type": "code",
   "execution_count": 20,
   "metadata": {},
   "outputs": [
    {
     "name": "stdout",
     "output_type": "stream",
     "text": [
      "Sequential(\n",
      "  (0): Linear(in_features=784, out_features=128, bias=True)\n",
      "  (1): ReLU()\n",
      "  (2): Linear(in_features=128, out_features=64, bias=True)\n",
      "  (3): ReLU()\n",
      "  (4): Linear(in_features=64, out_features=10, bias=True)\n",
      "  (5): LogSoftmax(dim=1)\n",
      ")\n"
     ]
    }
   ],
   "source": [
    "# TODO: Define your network architecture here\n",
    "\n",
    "# Hyperparameters:\n",
    "input_size = 784\n",
    "hidden_sizes = [128, 64]\n",
    "output_size = 10\n",
    "\n",
    "#Use nn.Sequential to build feed-forward network:\n",
    "\n",
    "model = nn.Sequential(nn.Linear(input_size, hidden_sizes[0]), \n",
    "                     nn.ReLU(),\n",
    "                     nn.Linear(hidden_sizes[0], hidden_sizes[1]),\n",
    "                     nn.ReLU(),\n",
    "                     nn.Linear(hidden_sizes[1], output_size),\n",
    "                     nn.LogSoftmax(dim=1))\n",
    "\n",
    "print(model)\n"
   ]
  },
  {
   "cell_type": "markdown",
   "metadata": {},
   "source": [
    "# Train the network\n",
    "\n",
    "Now you should create your network and train it. First you'll want to define [the criterion](http://pytorch.org/docs/master/nn.html#loss-functions) ( something like `nn.CrossEntropyLoss`) and [the optimizer](http://pytorch.org/docs/master/optim.html) (typically `optim.SGD` or `optim.Adam`).\n",
    "\n",
    "Then write the training code. Remember the training pass is a fairly straightforward process:\n",
    "\n",
    "* Make a forward pass through the network to get the logits \n",
    "* Use the logits to calculate the loss\n",
    "* Perform a backward pass through the network with `loss.backward()` to calculate the gradients\n",
    "* Take a step with the optimizer to update the weights\n",
    "\n",
    "By adjusting the hyperparameters (hidden units, learning rate, etc), you should be able to get the training loss below 0.4."
   ]
  },
  {
   "cell_type": "code",
   "execution_count": 29,
   "metadata": {},
   "outputs": [],
   "source": [
    "# TODO: Create the network, define the criterion and optimizer\n",
    "\n",
    "#Define the loss:\n",
    "criterion = nn.NLLLoss()\n",
    "\n",
    "# Define the optimizer:\n",
    "from torch import optim\n",
    "# Optimizers require the parameters to optimize and a learning rate\n",
    "optimizer = optim.SGD(model.parameters(), lr=0.002)\n"
   ]
  },
  {
   "cell_type": "code",
   "execution_count": 30,
   "metadata": {},
   "outputs": [
    {
     "name": "stdout",
     "output_type": "stream",
     "text": [
      "Training loss: 0.47821863653309055\n",
      "Training loss: 0.4698702248969058\n",
      "Training loss: 0.4626854891493631\n",
      "Training loss: 0.4560834983868131\n",
      "Training loss: 0.4500929726434669\n"
     ]
    }
   ],
   "source": [
    "# TODO: Train the network here\n",
    "\n",
    "# Load the data:\n",
    "dataiter = iter(trainloader)\n",
    "images, labels = next(dataiter)\n",
    "#images = images.view(images.shape[0], -1)\n",
    "\n",
    "# Define the training loop for each epoch:\n",
    "\n",
    "epochs = 5\n",
    "for e in range(epochs):\n",
    "    running_loss = 0\n",
    "    for images, labels in trainloader:\n",
    "        # Flatten MNIST images into a 784 long vector\n",
    "        images = images.view(images.shape[0], -1)\n",
    "    \n",
    "        # Clear the gradients, do this because gradients are accumulated\n",
    "        optimizer.zero_grad()\n",
    "\n",
    "        # Forward pass: then\n",
    "        output = model.forward(images)\n",
    "        loss = criterion(output, labels)\n",
    "        #Backward Pass:\n",
    "        loss.backward()\n",
    "        #Update step (acutally update the weights based on loss)\n",
    "        optimizer.step()\n",
    "        \n",
    "        running_loss += loss.item()\n",
    "    else:\n",
    "        print(f\"Training loss: {running_loss/len(trainloader)}\")\n"
   ]
  },
  {
   "cell_type": "code",
   "execution_count": 32,
   "metadata": {},
   "outputs": [
    {
     "data": {
      "image/png": "[encoded data removed]",
      "text/plain": [
       "<Figure size 600x900 with 2 Axes>"
      ]
     },
     "metadata": {
      "image/png": {
       "height": 301,
       "width": 589
      }
     },
     "output_type": "display_data"
    }
   ],
   "source": [
    "%matplotlib inline\n",
    "%config InlineBackend.figure_format = 'retina'\n",
    "\n",
    "import helper\n",
    "\n",
    "# Test out your network!\n",
    "\n",
    "dataiter = iter(testloader)\n",
    "images, labels = next(dataiter)\n",
    "img = images[0]\n",
    "# Convert 2D image to 1D vector\n",
    "img = images[0].view(1, 784)\n",
    "\n",
    "# TODO: Calculate the class probabilities (softmax) for img\n",
    "ps = torch.exp(model(img))\n",
    "\n",
    "# Plot the image and probabilities\n",
    "helper.view_classify(img.resize_(1, 28, 28), ps, version='Fashion')"
   ]
  },
  {
   "cell_type": "code",
   "execution_count": null,
   "metadata": {},
   "outputs": [],
   "source": []
  },
  {
   "cell_type": "code",
   "execution_count": null,
   "metadata": {},
   "outputs": [],
   "source": []
  }
 ],
 "metadata": {
  "kernelspec": {
   "display_name": "Python 3 (ipykernel)",
   "language": "python",
   "name": "python3"
  },
  "language_info": {
   "codemirror_mode": {
    "name": "ipython",
    "version": 3
   },
   "file_extension": ".py",
   "mimetype": "text/x-python",
   "name": "python",
   "nbconvert_exporter": "python",
   "pygments_lexer": "ipython3",
   "version": "3.9.13"
  }
 },
 "nbformat": 4,
 "nbformat_minor": 2
}
