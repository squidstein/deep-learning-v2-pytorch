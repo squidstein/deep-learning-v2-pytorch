{
 "cells": [
  {
   "cell_type": "markdown",
   "metadata": {},
   "source": [
    "# Neural networks with PyTorch\n",
    "\n",
    "Deep learning networks tend to be massive with dozens or hundreds of layers, that's where the term \"deep\" comes from. You can build one of these deep networks using only weight matrices as we did in the previous notebook, but in general it's very cumbersome and difficult to implement. PyTorch has a nice module `nn` that provides a nice way to efficiently build large neural networks."
   ]
  },
  {
   "cell_type": "code",
   "execution_count": 1,
   "metadata": {},
   "outputs": [],
   "source": [
    "# Import necessary packages\n",
    "\n",
    "%matplotlib inline\n",
    "%config InlineBackend.figure_format = 'retina'\n",
    "\n",
    "import numpy as np\n",
    "import torch\n",
    "\n",
    "import helper\n",
    "\n",
    "import matplotlib.pyplot as plt"
   ]
  },
  {
   "cell_type": "markdown",
   "metadata": {},
   "source": [
    "\n",
    "Now we're going to build a larger network that can solve a (formerly) difficult problem, identifying text in an image. Here we'll use the MNIST dataset which consists of greyscale handwritten digits. Each image is 28x28 pixels, you can see a sample below\n",
    "\n",
    "<img src='assets/mnist.png'>\n",
    "\n",
    "Our goal is to build a neural network that can take one of these images and predict the digit in the image.\n",
    "\n",
    "First up, we need to get our dataset. This is provided through the `torchvision` package. The code below will download the MNIST dataset, then create training and test datasets for us. Don't worry too much about the details here, you'll learn more about this later."
   ]
  },
  {
   "cell_type": "code",
   "execution_count": 2,
   "metadata": {},
   "outputs": [],
   "source": [
    "# The MNIST datasets are hosted on yann.lecun.com that has moved under CloudFlare protection\n",
    "# Run this script to enable the datasets download\n",
    "# Reference: https://github.com/pytorch/vision/issues/1938\n",
    "\n",
    "from six.moves import urllib\n",
    "opener = urllib.request.build_opener()\n",
    "opener.addheaders = [('User-agent', 'Mozilla/5.0')]\n",
    "urllib.request.install_opener(opener)"
   ]
  },
  {
   "cell_type": "code",
   "execution_count": 3,
   "metadata": {},
   "outputs": [
    {
     "name": "stdout",
     "output_type": "stream",
     "text": [
      "Downloading http://yann.lecun.com/exdb/mnist/train-images-idx3-ubyte.gz\n",
      "Downloading http://yann.lecun.com/exdb/mnist/train-images-idx3-ubyte.gz to /Users/lauran_kio/.pytorch/MNIST_data/MNIST/raw/train-images-idx3-ubyte.gz\n"
     ]
    },
    {
     "data": {
      "application/vnd.jupyter.widget-view+json": {
       "model_id": "19cf0c62c40e4337bedbb130ffb29da1",
       "version_major": 2,
       "version_minor": 0
      },
      "text/plain": [
       "  0%|          | 0/9912422 [00:00<?, ?it/s]"
      ]
     },
     "metadata": {},
     "output_type": "display_data"
    },
    {
     "name": "stdout",
     "output_type": "stream",
     "text": [
      "Extracting /Users/lauran_kio/.pytorch/MNIST_data/MNIST/raw/train-images-idx3-ubyte.gz to /Users/lauran_kio/.pytorch/MNIST_data/MNIST/raw\n",
      "\n",
      "Downloading http://yann.lecun.com/exdb/mnist/train-labels-idx1-ubyte.gz\n",
      "Downloading http://yann.lecun.com/exdb/mnist/train-labels-idx1-ubyte.gz to /Users/lauran_kio/.pytorch/MNIST_data/MNIST/raw/train-labels-idx1-ubyte.gz\n"
     ]
    },
    {
     "data": {
      "application/vnd.jupyter.widget-view+json": {
       "model_id": "07a28d8ab7744e1098f9701b3292fc39",
       "version_major": 2,
       "version_minor": 0
      },
      "text/plain": [
       "  0%|          | 0/28881 [00:00<?, ?it/s]"
      ]
     },
     "metadata": {},
     "output_type": "display_data"
    },
    {
     "name": "stdout",
     "output_type": "stream",
     "text": [
      "Extracting /Users/lauran_kio/.pytorch/MNIST_data/MNIST/raw/train-labels-idx1-ubyte.gz to /Users/lauran_kio/.pytorch/MNIST_data/MNIST/raw\n",
      "\n",
      "Downloading http://yann.lecun.com/exdb/mnist/t10k-images-idx3-ubyte.gz\n",
      "Downloading http://yann.lecun.com/exdb/mnist/t10k-images-idx3-ubyte.gz to /Users/lauran_kio/.pytorch/MNIST_data/MNIST/raw/t10k-images-idx3-ubyte.gz\n"
     ]
    },
    {
     "data": {
      "application/vnd.jupyter.widget-view+json": {
       "model_id": "c81bc6522a694259817d4b4bc9fba1be",
       "version_major": 2,
       "version_minor": 0
      },
      "text/plain": [
       "  0%|          | 0/1648877 [00:00<?, ?it/s]"
      ]
     },
     "metadata": {},
     "output_type": "display_data"
    },
    {
     "name": "stdout",
     "output_type": "stream",
     "text": [
      "Extracting /Users/lauran_kio/.pytorch/MNIST_data/MNIST/raw/t10k-images-idx3-ubyte.gz to /Users/lauran_kio/.pytorch/MNIST_data/MNIST/raw\n",
      "\n",
      "Downloading http://yann.lecun.com/exdb/mnist/t10k-labels-idx1-ubyte.gz\n",
      "Downloading http://yann.lecun.com/exdb/mnist/t10k-labels-idx1-ubyte.gz to /Users/lauran_kio/.pytorch/MNIST_data/MNIST/raw/t10k-labels-idx1-ubyte.gz\n"
     ]
    },
    {
     "data": {
      "application/vnd.jupyter.widget-view+json": {
       "model_id": "c00a57f4d317492b8ce3ff4245729215",
       "version_major": 2,
       "version_minor": 0
      },
      "text/plain": [
       "  0%|          | 0/4542 [00:00<?, ?it/s]"
      ]
     },
     "metadata": {},
     "output_type": "display_data"
    },
    {
     "name": "stdout",
     "output_type": "stream",
     "text": [
      "Extracting /Users/lauran_kio/.pytorch/MNIST_data/MNIST/raw/t10k-labels-idx1-ubyte.gz to /Users/lauran_kio/.pytorch/MNIST_data/MNIST/raw\n",
      "\n"
     ]
    }
   ],
   "source": [
    "### Run this cell\n",
    "\n",
    "from torchvision import datasets, transforms\n",
    "\n",
    "# Define a transform to normalize the data\n",
    "transform = transforms.Compose([transforms.ToTensor(),\n",
    "                              transforms.Normalize((0.5,), (0.5,)),\n",
    "                              ])\n",
    "\n",
    "# Download and load the training data\n",
    "trainset = datasets.MNIST('~/.pytorch/MNIST_data/', download=True, train=True, transform=transform)\n",
    "trainloader = torch.utils.data.DataLoader(trainset, batch_size=64, shuffle=True)"
   ]
  },
  {
   "cell_type": "markdown",
   "metadata": {},
   "source": [
    "We have the training data loaded into `trainloader` and we make that an iterator with `iter(trainloader)`. Later, we'll use this to loop through the dataset for training, like\n",
    "\n",
    "```python\n",
    "for image, label in trainloader:\n",
    "    ## do things with images and labels\n",
    "```\n",
    "\n",
    "You'll notice I created the `trainloader` with a batch size of 64, and `shuffle=True`. The batch size is the number of images we get in one iteration from the data loader and pass through our network, often called a *batch*. And `shuffle=True` tells it to shuffle the dataset every time we start going through the data loader again. But here I'm just grabbing the first batch so we can check out the data. We can see below that `images` is just a tensor with size `(64, 1, 28, 28)`. So, 64 images per batch, 1 color channel, and 28x28 images."
   ]
  },
  {
   "cell_type": "code",
   "execution_count": 6,
   "metadata": {},
   "outputs": [
    {
     "name": "stdout",
     "output_type": "stream",
     "text": [
      "<class 'torch.Tensor'>\n",
      "torch.Size([64, 1, 28, 28])\n",
      "torch.Size([64])\n"
     ]
    }
   ],
   "source": [
    "dataiter = iter(trainloader)\n",
    "images, labels = next(dataiter)\n",
    "print(type(images))\n",
    "print(images.shape)\n",
    "print(labels.shape)"
   ]
  },
  {
   "cell_type": "markdown",
   "metadata": {},
   "source": [
    "This is what one of the images looks like. "
   ]
  },
  {
   "cell_type": "code",
   "execution_count": 5,
   "metadata": {},
   "outputs": [
    {
     "data": {
      "image/png": "[encoded data removed]",
      "text/plain": [
       "<Figure size 640x480 with 1 Axes>"
      ]
     },
     "metadata": {
      "image/png": {
       "height": 413,
       "width": 416
      }
     },
     "output_type": "display_data"
    }
   ],
   "source": [
    "plt.imshow(images[1].numpy().squeeze(), cmap='Greys_r');"
   ]
  },
  {
   "cell_type": "markdown",
   "metadata": {},
   "source": [
    "First, let's try to build a simple network for this dataset using weight matrices and matrix multiplications. Then, we'll see how to do it using PyTorch's `nn` module which provides a much more convenient and powerful method for defining network architectures.\n",
    "\n",
    "The networks you've seen so far are called *fully-connected* or *dense* networks. Each unit in one layer is connected to each unit in the next layer. In fully-connected networks, the input to each layer must be a one-dimensional vector (which can be stacked into a 2D tensor as a batch of multiple examples). However, our images are 28x28 2D tensors, so we need to convert them into 1D vectors. Thinking about sizes, we need to convert the batch of images with shape `(64, 1, 28, 28)` to a have a shape of `(64, 784)`, 784 is 28 times 28. This is typically called *flattening*, we flattened the 2D images into 1D vectors.\n",
    "\n",
    "Previously you built a network with one output unit. Here we need 10 output units, one for each digit. We want our network to predict the digit shown in an image, so what we'll do is calculate probabilities that the image is of any one digit or class. This ends up being a discrete probability distribution over the classes (digits) that tells us the most likely class for the image. That means we need 10 output units for the 10 classes (digits). We'll see how to convert the network output into a probability distribution next.\n",
    "\n",
    "> **Exercise:** Flatten the batch of images `images`. Then build a multi-layer network with 784 input units, 256 hidden units, and 10 output units using random tensors for the weights and biases. For now, use a sigmoid activation for the hidden layer. Leave the output layer without an activation, we'll add one that gives us a probability distribution next."
   ]
  },
  {
   "cell_type": "code",
   "execution_count": 11,
   "metadata": {},
   "outputs": [
    {
     "data": {
      "text/plain": [
       "torch.Size([64, 1, 28, 28])"
      ]
     },
     "execution_count": 11,
     "metadata": {},
     "output_type": "execute_result"
    }
   ],
   "source": [
    "images.shape"
   ]
  },
  {
   "cell_type": "code",
   "execution_count": 21,
   "metadata": {
    "scrolled": true
   },
   "outputs": [
    {
     "data": {
      "text/plain": [
       "torch.Size([64, 784])"
      ]
     },
     "execution_count": 21,
     "metadata": {},
     "output_type": "execute_result"
    }
   ],
   "source": [
    "#flat_images = images.view(64, 784)\n",
    "# how he does it - preserve 64 batches, the -1 is a shortcut:\n",
    "flat_images = images.view(images.shape[0], -1)\n",
    "flat_images.shape"
   ]
  },
  {
   "cell_type": "code",
   "execution_count": 28,
   "metadata": {},
   "outputs": [
    {
     "name": "stdout",
     "output_type": "stream",
     "text": [
      "784\n",
      "W1:\n",
      "torch.Size([784, 256])\n",
      "W2:\n",
      "torch.Size([256, 10])\n",
      "B1:\n",
      "torch.Size([256])\n",
      "B2:\n",
      "torch.Size([10])\n"
     ]
    }
   ],
   "source": [
    "## Your solution\n",
    "# Features are 64 flattened images - i.e. 64 sets of 784 pixels\n",
    "features = flat_images\n",
    "\n",
    "# Define the size of each layer in our network\n",
    "n_input = features.shape[1]     # Number of input units, must match number of input features\n",
    "n_hidden = 256                    # Number of hidden units \n",
    "n_output = 10                    # Number of output units\n",
    "\n",
    "# Weights for inputs to hidden layer\n",
    "W1 = torch.randn(n_input, n_hidden)\n",
    "# Weights for hidden layer to output layer\n",
    "W2 = torch.randn(n_hidden, n_output)\n",
    "\n",
    "# and bias terms for hidden and output layers\n",
    "#NOTE - the bias terms are just vectors, not matrices\n",
    "B1 = torch.randn(n_hidden)\n",
    "B2 = torch.randn(n_output)\n",
    "\n",
    "print(features.shape[1])\n",
    "print('W1:')\n",
    "print(W1.shape)\n",
    "print('W2:')\n",
    "print(W2.shape)\n",
    "\n",
    "print('B1:')\n",
    "print(B1.shape)\n",
    "print('B2:')\n",
    "print(B2.shape)"
   ]
  },
  {
   "cell_type": "code",
   "execution_count": 41,
   "metadata": {},
   "outputs": [
    {
     "data": {
      "text/plain": [
       "torch.Size([64, 10])"
      ]
     },
     "execution_count": 41,
     "metadata": {},
     "output_type": "execute_result"
    }
   ],
   "source": [
    "#Activation function for the hidden layer:\n",
    "def hidden_act(x):\n",
    "    '''\n",
    "    This is the activation function for the hidden layer.\n",
    "    We will use sigmoid, per exercise instructions\n",
    "    x: Torch.tensor\n",
    "    '''\n",
    "    return 1/(1+torch.exp(-x))\n",
    "\n",
    "\n",
    "# hidden layer:\n",
    "h = hidden_act(torch.mm(features, W1)+B1)\n",
    "# output layer is just the sum, since we didn't do the activation function yet:\n",
    "out = torch.mm(h, W2)+B2\n",
    "out2 = output_act(torch.mm(h, W2)+B2)\n",
    "# output of your network, should have shape (64,10)\n",
    "out.shape\n",
    "\n"
   ]
  },
  {
   "cell_type": "markdown",
   "metadata": {},
   "source": [
    "Now we have 10 outputs for our network. We want to pass in an image to our network and get out a probability distribution over the classes that tells us the likely class(es) the image belongs to. Something that looks like this:\n",
    "<img src='assets/image_distribution.png' width=500px>\n",
    "\n",
    "Here we see that the probability for each class is roughly the same. This is representing an untrained network, it hasn't seen any data yet so it just returns a uniform distribution with equal probabilities for each class.\n",
    "\n",
    "To calculate this probability distribution, we often use the [**softmax** function](https://en.wikipedia.org/wiki/Softmax_function). Mathematically this looks like\n",
    "\n",
    "$$\n",
    "\\Large \\sigma(x_i) = \\cfrac{e^{x_i}}{\\sum_k^K{e^{x_k}}}\n",
    "$$\n",
    "\n",
    "What this does is squish each input $x_i$ between 0 and 1 and normalizes the values to give you a proper probability distribution where the probabilites sum up to one.\n",
    "\n",
    "> **Exercise:** Implement a function `softmax` that performs the softmax calculation and returns probability distributions for each example in the batch. Note that you'll need to pay attention to the shapes when doing this. If you have a tensor `a` with shape `(64, 10)` and a tensor `b` with shape `(64,)`, doing `a/b` will give you an error because PyTorch will try to do the division across the columns (called broadcasting) but you'll get a size mismatch. The way to think about this is for each of the 64 examples, you only want to divide by one value, the sum in the denominator. So you need `b` to have a shape of `(64, 1)`. This way PyTorch will divide the 10 values in each row of `a` by the one value in each row of `b`. Pay attention to how you take the sum as well. You'll need to define the `dim` keyword in `torch.sum`. Setting `dim=0` takes the sum across the rows while `dim=1` takes the sum across the columns."
   ]
  },
  {
   "cell_type": "code",
   "execution_count": null,
   "metadata": {},
   "outputs": [],
   "source": []
  },
  {
   "cell_type": "code",
   "execution_count": 43,
   "metadata": {},
   "outputs": [
    {
     "name": "stdout",
     "output_type": "stream",
     "text": [
      "torch.Size([64, 10])\n",
      "tensor([1.0000, 1.0000, 1.0000, 1.0000, 1.0000, 1.0000, 1.0000, 1.0000, 1.0000,\n",
      "        1.0000, 1.0000, 1.0000, 1.0000, 1.0000, 1.0000, 1.0000, 1.0000, 1.0000,\n",
      "        1.0000, 1.0000, 1.0000, 1.0000, 1.0000, 1.0000, 1.0000, 1.0000, 1.0000,\n",
      "        1.0000, 1.0000, 1.0000, 1.0000, 1.0000, 1.0000, 1.0000, 1.0000, 1.0000,\n",
      "        1.0000, 1.0000, 1.0000, 1.0000, 1.0000, 1.0000, 1.0000, 1.0000, 1.0000,\n",
      "        1.0000, 1.0000, 1.0000, 1.0000, 1.0000, 1.0000, 1.0000, 1.0000, 1.0000,\n",
      "        1.0000, 1.0000, 1.0000, 1.0000, 1.0000, 1.0000, 1.0000, 1.0000, 1.0000,\n",
      "        1.0000])\n",
      "tensor([[7.3265e-08, 4.6017e-06, 4.1103e-01, 1.1359e-05, 5.8389e-01, 8.0676e-06,\n",
      "         3.3166e-16, 5.0541e-03, 3.1449e-06, 2.0354e-11],\n",
      "        [4.2451e-09, 5.0191e-08, 9.9980e-01, 8.1226e-05, 1.1340e-05, 4.6386e-10,\n",
      "         1.1738e-15, 1.0448e-04, 3.4348e-09, 2.5435e-14],\n",
      "        [9.6231e-09, 2.1156e-09, 2.3086e-02, 3.2597e-03, 5.3277e-07, 5.6338e-07,\n",
      "         1.1017e-12, 9.7365e-01, 5.5411e-07, 1.8511e-14],\n",
      "        [2.3540e-09, 8.9171e-05, 9.9799e-01, 1.2471e-04, 5.7603e-05, 3.6590e-12,\n",
      "         1.4794e-12, 1.7368e-03, 1.0786e-06, 3.8498e-12],\n",
      "        [2.3721e-07, 1.6744e-04, 9.9646e-01, 1.5059e-03, 3.5927e-06, 3.6447e-10,\n",
      "         8.7078e-13, 1.7808e-03, 8.6197e-05, 1.5075e-13],\n",
      "        [5.5969e-12, 8.2891e-11, 1.7831e-05, 2.4947e-06, 4.0157e-07, 4.9379e-12,\n",
      "         9.9993e-16, 9.9998e-01, 5.9218e-14, 9.3201e-17],\n",
      "        [1.1240e-03, 1.6019e-04, 9.6832e-01, 1.0484e-03, 7.9324e-05, 1.9557e-03,\n",
      "         3.5618e-11, 2.6561e-02, 7.4941e-04, 3.7097e-08],\n",
      "        [3.6096e-06, 3.0935e-05, 6.2417e-01, 1.7906e-03, 1.1581e-02, 1.0095e-07,\n",
      "         4.6865e-10, 3.6242e-01, 1.7532e-07, 9.9085e-12],\n",
      "        [5.0345e-07, 2.7247e-06, 1.0000e+00, 4.1476e-07, 4.1451e-10, 1.3484e-09,\n",
      "         7.7327e-17, 7.4933e-07, 2.5854e-10, 1.2698e-16],\n",
      "        [8.6536e-07, 3.2841e-05, 6.0819e-01, 4.4745e-05, 7.5672e-04, 4.0082e-06,\n",
      "         2.2565e-13, 3.9097e-01, 2.4158e-07, 4.9198e-14],\n",
      "        [1.5427e-11, 4.4907e-14, 9.9997e-01, 5.9674e-08, 4.7029e-10, 5.7450e-09,\n",
      "         9.5959e-14, 2.7824e-05, 2.1294e-10, 4.3280e-19],\n",
      "        [3.4111e-04, 6.9374e-07, 8.9402e-01, 2.9215e-03, 1.4871e-03, 4.0668e-12,\n",
      "         1.0047e-12, 1.0122e-01, 1.3062e-05, 5.7829e-12],\n",
      "        [1.9719e-08, 1.5240e-07, 9.7247e-01, 1.2283e-03, 6.9512e-07, 3.0325e-08,\n",
      "         9.1193e-14, 2.6279e-02, 1.7679e-05, 3.0032e-19],\n",
      "        [1.0674e-05, 1.4187e-02, 9.5026e-01, 5.0608e-04, 2.9864e-03, 8.0747e-10,\n",
      "         3.9360e-14, 3.2024e-02, 2.8455e-05, 4.4187e-10],\n",
      "        [3.1076e-10, 4.6683e-11, 6.3348e-05, 1.4657e-02, 9.7762e-01, 6.1072e-09,\n",
      "         6.5970e-16, 7.5287e-03, 1.3194e-04, 3.3168e-11],\n",
      "        [1.5340e-07, 3.4696e-07, 3.9470e-03, 3.8683e-06, 1.9750e-01, 3.8975e-05,\n",
      "         6.9454e-18, 7.9851e-01, 3.8820e-06, 8.6393e-10],\n",
      "        [7.0998e-07, 3.4301e-06, 3.7057e-05, 4.2019e-02, 8.7618e-08, 6.7896e-06,\n",
      "         1.7994e-12, 9.5774e-01, 1.9730e-04, 9.7139e-15],\n",
      "        [1.7094e-13, 1.6269e-09, 4.1328e-04, 2.6987e-05, 5.3271e-05, 1.2186e-06,\n",
      "         1.5969e-15, 9.9951e-01, 1.1704e-07, 9.4194e-17],\n",
      "        [4.7992e-07, 3.2810e-12, 3.2369e-06, 7.1114e-04, 8.3495e-07, 4.2768e-14,\n",
      "         6.5329e-15, 9.9928e-01, 1.1164e-06, 8.0675e-17],\n",
      "        [3.4062e-06, 1.3051e-08, 2.8827e-03, 2.5631e-04, 9.0777e-06, 7.8790e-06,\n",
      "         1.0784e-13, 9.9684e-01, 1.2216e-06, 8.4539e-09],\n",
      "        [3.4128e-08, 3.6778e-07, 9.7115e-01, 2.6311e-03, 2.0148e-05, 4.0273e-09,\n",
      "         2.2807e-08, 2.6189e-02, 5.6263e-06, 3.1593e-08],\n",
      "        [5.2643e-10, 1.6952e-08, 7.3747e-01, 2.8415e-05, 2.5743e-01, 2.5375e-10,\n",
      "         9.9374e-16, 5.0767e-03, 2.7530e-07, 2.3395e-13],\n",
      "        [3.4073e-06, 2.6968e-04, 1.3847e-04, 6.0969e-02, 5.1226e-06, 9.6011e-04,\n",
      "         3.6946e-16, 9.3763e-01, 2.2080e-05, 2.5043e-13],\n",
      "        [1.4827e-07, 7.6216e-06, 9.8355e-01, 6.3072e-05, 1.3927e-03, 1.0539e-06,\n",
      "         3.0492e-11, 1.0783e-02, 4.2053e-03, 2.5414e-17],\n",
      "        [2.3770e-04, 2.2679e-05, 7.3482e-03, 7.1272e-02, 5.6061e-05, 5.0070e-07,\n",
      "         3.9067e-13, 9.2097e-01, 9.0546e-05, 2.9654e-11],\n",
      "        [2.9678e-05, 5.1715e-08, 8.0214e-04, 1.1268e-04, 9.7686e-02, 1.7383e-07,\n",
      "         4.4237e-11, 9.0137e-01, 2.3857e-06, 1.5356e-12],\n",
      "        [1.2891e-05, 2.8227e-05, 7.6575e-01, 2.3385e-01, 7.3801e-07, 1.2196e-07,\n",
      "         1.6501e-12, 2.7305e-05, 3.2872e-04, 8.1218e-16],\n",
      "        [2.4305e-07, 1.4290e-07, 7.7633e-01, 2.4799e-03, 8.2424e-03, 5.6018e-09,\n",
      "         2.1741e-13, 2.1070e-01, 2.2487e-03, 4.6589e-10],\n",
      "        [6.8012e-10, 2.5476e-11, 9.9997e-01, 6.5954e-07, 2.7218e-10, 2.5465e-07,\n",
      "         2.3888e-17, 2.7512e-05, 6.4423e-09, 3.1442e-12],\n",
      "        [7.8110e-10, 7.0927e-12, 9.9994e-01, 6.0182e-07, 8.0549e-09, 3.2199e-10,\n",
      "         6.9955e-14, 5.9501e-05, 2.0506e-10, 2.2614e-17],\n",
      "        [4.8922e-08, 8.3086e-07, 1.7406e-03, 8.6756e-04, 2.9326e-03, 4.3974e-04,\n",
      "         5.5498e-12, 9.9402e-01, 1.7912e-10, 1.8159e-10],\n",
      "        [7.3332e-08, 5.1697e-06, 3.6540e-03, 2.7266e-02, 1.1078e-05, 1.5370e-15,\n",
      "         7.3218e-15, 9.6864e-01, 4.2067e-04, 6.7319e-12],\n",
      "        [1.0945e-06, 1.2080e-04, 7.2156e-02, 1.6416e-02, 2.4853e-01, 1.7503e-09,\n",
      "         1.0468e-12, 6.6266e-01, 1.1403e-04, 4.4463e-12],\n",
      "        [9.6859e-06, 2.0144e-06, 7.2295e-01, 2.0594e-05, 9.1601e-07, 1.1702e-07,\n",
      "         7.9632e-12, 2.7701e-01, 3.7974e-07, 5.0717e-14],\n",
      "        [1.3948e-06, 1.6423e-07, 4.0346e-01, 5.8779e-01, 8.5912e-08, 9.5592e-09,\n",
      "         2.8684e-13, 8.6745e-03, 7.4962e-05, 3.0831e-12],\n",
      "        [1.0885e-07, 2.6596e-06, 9.9423e-01, 3.9310e-04, 2.8026e-06, 6.3353e-09,\n",
      "         2.8647e-15, 5.3143e-03, 6.1855e-05, 4.0060e-12],\n",
      "        [3.6995e-08, 2.4887e-11, 1.5895e-03, 9.9826e-01, 3.4305e-09, 6.1070e-09,\n",
      "         4.7986e-11, 7.8404e-05, 7.0131e-05, 3.7723e-14],\n",
      "        [3.4581e-10, 1.3175e-08, 9.8067e-01, 9.5603e-06, 1.9299e-02, 5.4097e-11,\n",
      "         8.0593e-11, 1.5656e-05, 3.1278e-06, 1.3093e-14],\n",
      "        [8.4298e-11, 2.6511e-10, 9.9571e-01, 3.4474e-05, 1.2704e-04, 4.5588e-05,\n",
      "         2.2927e-17, 4.0808e-03, 1.9705e-07, 2.1952e-12],\n",
      "        [3.0258e-03, 8.8515e-07, 7.9998e-01, 4.8562e-04, 1.0525e-05, 4.5218e-11,\n",
      "         2.8589e-18, 1.9649e-01, 3.6232e-06, 8.0338e-14],\n",
      "        [1.8042e-05, 2.0734e-06, 1.5366e-06, 2.3883e-08, 3.2054e-05, 5.6655e-09,\n",
      "         8.5809e-16, 9.9995e-01, 7.1001e-12, 3.1074e-13],\n",
      "        [6.9299e-08, 3.9662e-09, 1.2376e-01, 8.6855e-01, 5.8541e-07, 6.5242e-09,\n",
      "         1.2772e-14, 6.2850e-03, 1.4041e-03, 9.2287e-15],\n",
      "        [3.6589e-06, 2.7156e-06, 3.5678e-01, 5.4630e-01, 3.0032e-02, 1.8591e-04,\n",
      "         6.5935e-09, 5.7891e-02, 8.8034e-03, 3.3492e-11],\n",
      "        [8.5308e-08, 5.9385e-04, 7.3446e-05, 5.4094e-04, 1.2386e-05, 5.5003e-06,\n",
      "         6.0166e-14, 7.7358e-03, 9.9104e-01, 1.1099e-15],\n",
      "        [1.0831e-10, 1.1283e-08, 9.8624e-01, 1.1239e-05, 1.8801e-05, 1.9509e-11,\n",
      "         4.0183e-19, 1.3727e-02, 1.8558e-08, 1.0520e-15],\n",
      "        [3.5545e-06, 2.8530e-03, 9.9620e-01, 1.8455e-06, 2.2801e-04, 3.4358e-14,\n",
      "         2.8596e-14, 7.0689e-04, 7.2949e-06, 4.4350e-16],\n",
      "        [5.6147e-06, 1.9415e-05, 9.0133e-01, 5.9540e-02, 5.5452e-06, 2.0607e-11,\n",
      "         3.6865e-18, 3.9102e-02, 3.3291e-07, 9.8204e-11],\n",
      "        [8.9027e-06, 4.6197e-05, 6.9449e-01, 1.0636e-02, 2.9337e-01, 1.9131e-07,\n",
      "         4.8836e-10, 1.4449e-03, 3.8573e-06, 3.0569e-13],\n",
      "        [5.6036e-05, 1.5387e-04, 4.8502e-01, 3.2062e-03, 1.6483e-03, 1.2590e-03,\n",
      "         1.1581e-09, 5.0858e-01, 8.0368e-05, 1.6461e-06],\n",
      "        [3.7258e-04, 4.8060e-07, 9.0130e-01, 3.3634e-03, 6.4336e-05, 4.8455e-06,\n",
      "         2.6665e-14, 9.4888e-02, 2.2768e-06, 6.8024e-14],\n",
      "        [2.2377e-07, 3.2324e-08, 2.7875e-03, 1.6796e-03, 9.5680e-01, 7.4277e-10,\n",
      "         5.8470e-18, 3.8729e-02, 2.7230e-07, 2.6803e-12],\n",
      "        [1.0426e-05, 2.3020e-05, 1.3526e-07, 4.3743e-05, 6.9504e-05, 2.0073e-10,\n",
      "         8.4403e-14, 9.9985e-01, 3.6499e-10, 3.1902e-16],\n",
      "        [2.1114e-05, 2.7874e-02, 9.4455e-01, 7.6702e-03, 1.8787e-02, 5.7871e-11,\n",
      "         1.1932e-06, 1.5313e-04, 9.4674e-04, 1.8291e-13],\n",
      "        [2.5343e-07, 2.1531e-08, 1.6488e-01, 7.6326e-01, 3.1389e-08, 1.2268e-03,\n",
      "         4.1027e-14, 7.0600e-02, 2.4516e-05, 2.3421e-10],\n",
      "        [3.9489e-07, 2.7725e-08, 2.9450e-03, 2.3495e-07, 7.2932e-08, 3.0227e-07,\n",
      "         2.0151e-13, 9.9705e-01, 1.6148e-09, 7.5733e-15],\n",
      "        [2.1885e-08, 1.6205e-03, 2.5621e-01, 3.3634e-03, 6.9634e-06, 7.9055e-08,\n",
      "         2.5928e-10, 7.3879e-01, 9.7530e-06, 1.0117e-11],\n",
      "        [1.0853e-07, 1.0386e-07, 3.1053e-02, 5.1897e-10, 5.9966e-04, 5.6497e-12,\n",
      "         2.3565e-15, 9.6835e-01, 5.9143e-09, 6.3374e-15],\n",
      "        [1.0051e-04, 2.1189e-06, 7.9705e-03, 3.8985e-06, 2.3941e-04, 2.7918e-09,\n",
      "         2.1593e-13, 9.9168e-01, 1.9642e-08, 7.0893e-13],\n",
      "        [4.7033e-08, 6.6289e-08, 1.8896e-02, 9.7313e-01, 6.5782e-05, 4.1145e-07,\n",
      "         7.8800e-11, 7.9037e-03, 2.0898e-06, 8.6907e-14],\n",
      "        [1.0086e-07, 1.6250e-07, 5.9034e-04, 2.6847e-03, 1.3876e-04, 8.7658e-10,\n",
      "         6.0434e-14, 9.9494e-01, 1.6497e-03, 5.8959e-10],\n",
      "        [1.1247e-04, 1.2623e-09, 7.0611e-04, 2.5717e-04, 6.4420e-05, 7.8564e-07,\n",
      "         2.3401e-12, 9.9886e-01, 6.2770e-08, 1.4318e-12],\n",
      "        [3.2187e-07, 1.4870e-09, 5.6323e-01, 2.6518e-04, 2.3550e-01, 4.4958e-04,\n",
      "         1.1578e-14, 1.9981e-01, 7.3412e-04, 5.2548e-07],\n",
      "        [2.9069e-05, 2.5630e-08, 3.3708e-06, 4.6346e-03, 1.4324e-03, 3.0346e-05,\n",
      "         6.7259e-12, 9.9387e-01, 7.6964e-07, 2.3166e-12],\n",
      "        [6.0648e-08, 9.7854e-10, 7.7357e-01, 2.8453e-07, 6.6179e-04, 8.3011e-12,\n",
      "         4.9951e-16, 2.2577e-01, 2.1547e-10, 2.9429e-15]])\n"
     ]
    }
   ],
   "source": [
    "def softmax(x):\n",
    "    ## TODO: Implement the softmax function here\n",
    "    # NOTE: this is broadcasting - need to understand this better!\n",
    "    return torch.exp(x)/(torch.sum(torch.exp(x), dim=1).view(-1,1))\n",
    "\n",
    "# Here, out should be the output of the network in the previous excercise with shape (64,10)\n",
    "probabilities = softmax(out)\n",
    "\n",
    "# Does it have the right shape? Should be (64, 10)\n",
    "print(probabilities.shape)\n",
    "# Does it sum to 1?\n",
    "print(probabilities.sum(dim=1))\n",
    "print(probabilities)"
   ]
  },
  {
   "cell_type": "markdown",
   "metadata": {},
   "source": [
    "## Building networks with PyTorch\n",
    "\n",
    "PyTorch provides a module `nn` that makes building networks much simpler. Here I'll show you how to build the same one as above with 784 inputs, 256 hidden units, 10 output units and a softmax output."
   ]
  },
  {
   "cell_type": "code",
   "execution_count": 44,
   "metadata": {},
   "outputs": [],
   "source": [
    "from torch import nn"
   ]
  },
  {
   "cell_type": "code",
   "execution_count": 45,
   "metadata": {},
   "outputs": [],
   "source": [
    "class Network(nn.Module):\n",
    "    def __init__(self):\n",
    "        super().__init__()\n",
    "        \n",
    "        # Inputs to hidden layer linear transformation\n",
    "        self.hidden = nn.Linear(784, 256) #784 inputs, 256 outputs\n",
    "        # Output layer, 10 units - one for each digit\n",
    "        self.output = nn.Linear(256, 10)\n",
    "        \n",
    "        # Define sigmoid activation and softmax output \n",
    "        self.sigmoid = nn.Sigmoid()\n",
    "        self.softmax = nn.Softmax(dim=1)\n",
    "        \n",
    "    def forward(self, x):\n",
    "        # Pass the input tensor x through each of our operations\n",
    "        x = self.hidden(x)\n",
    "        x = self.sigmoid(x)\n",
    "        x = self.output(x)\n",
    "        x = self.softmax(x)\n",
    "        \n",
    "        return x"
   ]
  },
  {
   "cell_type": "markdown",
   "metadata": {},
   "source": [
    "Let's go through this bit by bit.\n",
    "\n",
    "```python\n",
    "class Network(nn.Module):\n",
    "```\n",
    "\n",
    "Here we're inheriting from `nn.Module`. Combined with `super().__init__()` this creates a class that tracks the architecture and provides a lot of useful methods and attributes. It is mandatory to inherit from `nn.Module` when you're creating a class for your network. The name of the class itself can be anything.\n",
    "\n",
    "```python\n",
    "self.hidden = nn.Linear(784, 256)\n",
    "```\n",
    "\n",
    "This line creates a module for a linear transformation, $x\\mathbf{W} + b$, with 784 inputs and 256 outputs and assigns it to `self.hidden`. The module automatically creates the weight and bias tensors which we'll use in the `forward` method. You can access the weight and bias tensors once the network (`net`) is created with `net.hidden.weight` and `net.hidden.bias`.\n",
    "\n",
    "```python\n",
    "self.output = nn.Linear(256, 10)\n",
    "```\n",
    "\n",
    "Similarly, this creates another linear transformation with 256 inputs and 10 outputs.\n",
    "\n",
    "```python\n",
    "self.sigmoid = nn.Sigmoid()\n",
    "self.softmax = nn.Softmax(dim=1)\n",
    "```\n",
    "\n",
    "Here I defined operations for the sigmoid activation and softmax output. Setting `dim=1` in `nn.Softmax(dim=1)` calculates softmax across the columns.\n",
    "\n",
    "```python\n",
    "def forward(self, x):\n",
    "```\n",
    "\n",
    "PyTorch networks created with `nn.Module` must have a `forward` method defined. It takes in a tensor `x` and passes it through the operations you defined in the `__init__` method.\n",
    "\n",
    "```python\n",
    "x = self.hidden(x)\n",
    "x = self.sigmoid(x)\n",
    "x = self.output(x)\n",
    "x = self.softmax(x)\n",
    "```\n",
    "\n",
    "Here the input tensor `x` is passed through each operation and reassigned to `x`. We can see that the input tensor goes through the hidden layer, then a sigmoid function, then the output layer, and finally the softmax function. It doesn't matter what you name the variables here, as long as the inputs and outputs of the operations match the network architecture you want to build. The order in which you define things in the `__init__` method doesn't matter, but you'll need to sequence the operations correctly in the `forward` method.\n",
    "\n",
    "Now we can create a `Network` object."
   ]
  },
  {
   "cell_type": "code",
   "execution_count": 46,
   "metadata": {},
   "outputs": [
    {
     "data": {
      "text/plain": [
       "Network(\n",
       "  (hidden): Linear(in_features=784, out_features=256, bias=True)\n",
       "  (output): Linear(in_features=256, out_features=10, bias=True)\n",
       "  (sigmoid): Sigmoid()\n",
       "  (softmax): Softmax(dim=1)\n",
       ")"
      ]
     },
     "execution_count": 46,
     "metadata": {},
     "output_type": "execute_result"
    }
   ],
   "source": [
    "# Create the network and look at it's text representation\n",
    "model = Network()\n",
    "model"
   ]
  },
  {
   "cell_type": "markdown",
   "metadata": {},
   "source": [
    "You can define the network somewhat more concisely and clearly using the `torch.nn.functional` module. This is the most common way you'll see networks defined as many operations are simple element-wise functions. We normally import this module as `F`, `import torch.nn.functional as F`.\n",
    "NOTE - code below does the same thing, it's just a more standard way of doing it."
   ]
  },
  {
   "cell_type": "code",
   "execution_count": 61,
   "metadata": {},
   "outputs": [],
   "source": [
    "import torch.nn.functional as F\n",
    "\n",
    "class Network(nn.Module):\n",
    "    def __init__(self):\n",
    "        super().__init__()\n",
    "        # Inputs to hidden layer linear transformation\n",
    "        self.hidden = nn.Linear(784, 256)\n",
    "        # Output layer, 10 units - one for each digit\n",
    "        self.output = nn.Linear(256, 10)\n",
    "        \n",
    "    def forward(self, x):\n",
    "        # Hidden layer with sigmoid activation\n",
    "        x = F.sigmoid(self.hidden(x))\n",
    "        # Output layer with softmax activation\n",
    "        x = F.softmax(self.output(x), dim=1)\n",
    "        \n",
    "        return x"
   ]
  },
  {
   "cell_type": "markdown",
   "metadata": {},
   "source": [
    "### Activation functions\n",
    "\n",
    "So far we've only been looking at the sigmoid activation function, but in general any function can be used as an activation function. The only requirement is that for a network to approximate a non-linear function, the activation functions must be non-linear. Here are a few more examples of common activation functions: Tanh (hyperbolic tangent), and ReLU (rectified linear unit).\n",
    "\n",
    "<img src=\"assets/activation.png\" width=700px>\n",
    "\n",
    "In practice, the ReLU function is used almost exclusively as the activation function for hidden layers."
   ]
  },
  {
   "cell_type": "markdown",
   "metadata": {},
   "source": [
    "### Your Turn to Build a Network\n",
    "\n",
    "<img src=\"assets/mlp_mnist.png\" width=600px>\n",
    "\n",
    "> **Exercise:** Create a network with 784 input units, a hidden layer with 128 units and a ReLU activation, then a hidden layer with 64 units and a ReLU activation, and finally an output layer with a softmax activation as shown above. You can use a ReLU activation with the `nn.ReLU` module or `F.relu` function.\n",
    "\n",
    "It's good practice to name your layers by their type of network, for instance 'fc' to represent a fully-connected layer. As you code your solution, use `fc1`, `fc2`, and `fc3` as your layer names."
   ]
  },
  {
   "cell_type": "code",
   "execution_count": 62,
   "metadata": {
    "scrolled": true
   },
   "outputs": [
    {
     "data": {
      "text/plain": [
       "Network(\n",
       "  (fc1): Linear(in_features=784, out_features=128, bias=True)\n",
       "  (fc2): Linear(in_features=128, out_features=64, bias=True)\n",
       "  (fc3): Linear(in_features=64, out_features=10, bias=True)\n",
       ")"
      ]
     },
     "execution_count": 62,
     "metadata": {},
     "output_type": "execute_result"
    }
   ],
   "source": [
    "## Your solution here\n",
    "import torch.nn.functional as F\n",
    "\n",
    "class Network(nn.Module):\n",
    "    def __init__(self):\n",
    "        super().__init__()\n",
    "        ''' First define the layers of the network: '''\n",
    "        # Inputs to hidden layer 1 Linear transformation\n",
    "        self.fc1 = nn.Linear(784, 128) #784 inputs, 128 outputs\n",
    "        # Hidden layer 1 to hidden layer 2 Linear transformation\n",
    "        self.fc2 = nn.Linear(128, 64)\n",
    "        # Hidden layer 2 to hidden Output layer \n",
    "        self.fc3 = nn.Linear(64, 10)\n",
    "        \n",
    "        # Define sigmoid activation and softmax output \n",
    "        # self.sigmoid = nn.Sigmoid()\n",
    "       #  self.softmax = nn.Softmax(dim=1)\n",
    "        \n",
    "    def forward(self, x):\n",
    "        ''' Forward pass through the network, returns the output logits '''\n",
    "        \n",
    "        # Pass the input tensor x through each of our operations\n",
    "        x = self.fc1(x)\n",
    "        x = F.relu(x)\n",
    "        x = self.fc2(x)\n",
    "        x = F.relu(x)\n",
    "        x = self.fc3(x)\n",
    "        x = F.softmax(x, dim=1)\n",
    "        \n",
    "        return x\n",
    "    \n",
    "#''''''Look at the model:''''''\n",
    "model = Network()\n",
    "model"
   ]
  },
  {
   "cell_type": "markdown",
   "metadata": {},
   "source": [
    "### Initializing weights and biases\n",
    "\n",
    "The weights and such are automatically initialized for you, but it's possible to customize how they are initialized. The weights and biases are tensors attached to the layer you defined, you can get them with `model.fc1.weight` for instance."
   ]
  },
  {
   "cell_type": "code",
   "execution_count": 63,
   "metadata": {},
   "outputs": [
    {
     "name": "stdout",
     "output_type": "stream",
     "text": [
      "Parameter containing:\n",
      "tensor([[ 5.1348e-03, -6.6552e-05, -2.7449e-02,  ..., -2.8963e-02,\n",
      "         -2.0630e-02,  2.2757e-02],\n",
      "        [ 4.6478e-03, -1.6646e-02, -2.0148e-02,  ..., -2.2394e-02,\n",
      "          1.6771e-02,  5.7561e-03],\n",
      "        [-1.4880e-02, -1.7192e-02, -1.6504e-02,  ..., -2.4027e-02,\n",
      "          1.6073e-02, -2.3045e-02],\n",
      "        ...,\n",
      "        [-3.8081e-03, -2.1875e-02,  8.3873e-04,  ...,  3.1566e-02,\n",
      "         -3.5514e-02, -3.2156e-02],\n",
      "        [ 3.3840e-02, -1.2664e-02,  2.5080e-02,  ..., -1.6313e-04,\n",
      "          3.5060e-02,  2.6683e-03],\n",
      "        [-1.0110e-02, -3.3721e-02,  2.8676e-02,  ...,  1.4850e-02,\n",
      "         -2.2766e-02, -2.5828e-02]], requires_grad=True)\n",
      "Parameter containing:\n",
      "tensor([ 9.5027e-03,  1.9061e-03, -1.9144e-02, -1.4467e-02, -1.9752e-02,\n",
      "         2.5886e-02,  2.0671e-02,  1.1603e-02,  3.0100e-02, -1.0272e-02,\n",
      "        -7.8612e-03, -2.1097e-02,  1.7409e-03, -2.5151e-02, -2.1052e-02,\n",
      "        -2.7595e-02, -3.2588e-02, -9.0473e-04,  1.9984e-02,  1.1105e-04,\n",
      "        -9.5182e-03,  2.8168e-02,  2.2171e-02, -3.0071e-02, -2.3473e-02,\n",
      "        -1.3232e-02, -1.4068e-02, -2.4848e-02,  2.2109e-02, -3.0075e-02,\n",
      "        -2.3000e-02,  3.5198e-02,  2.7797e-03, -2.0979e-03,  3.4146e-03,\n",
      "        -9.5204e-04, -3.3675e-02, -1.7562e-02,  3.1194e-02, -3.5590e-02,\n",
      "         2.4960e-02, -1.2662e-02,  2.9728e-02,  2.4040e-02,  2.6767e-02,\n",
      "         2.7328e-02, -3.4033e-02,  1.7322e-02,  1.9599e-02,  3.3160e-02,\n",
      "        -1.3084e-02,  8.4693e-03,  3.4699e-03, -1.4377e-03, -1.0689e-03,\n",
      "         3.5279e-02, -2.2343e-02, -4.7030e-03,  2.5906e-02, -3.0799e-02,\n",
      "        -1.1133e-02, -8.8409e-03,  4.7689e-03, -2.9508e-02,  1.4308e-02,\n",
      "        -1.5785e-02, -2.9818e-03, -2.9575e-02,  4.1900e-03, -5.4616e-03,\n",
      "        -2.1652e-02,  1.8978e-02,  2.5570e-02,  5.8547e-03,  1.6403e-02,\n",
      "        -3.4675e-03, -6.7035e-03,  2.1836e-03,  7.5477e-03,  3.0012e-02,\n",
      "        -3.2905e-02, -6.9500e-03, -1.6870e-02, -6.7672e-03, -2.2112e-02,\n",
      "         5.9894e-03, -2.7228e-02, -3.1310e-02,  2.8591e-02, -1.1244e-02,\n",
      "         1.1746e-02,  8.3278e-03, -1.7802e-02,  2.1419e-02, -1.1680e-02,\n",
      "         2.2604e-02, -1.7460e-05, -1.8801e-02,  9.9001e-03,  3.2040e-02,\n",
      "        -7.0432e-03, -2.3032e-02,  2.7965e-02, -5.8666e-03, -2.8417e-02,\n",
      "         9.9343e-03, -1.2722e-02,  4.4040e-03,  1.1445e-02,  1.1338e-02,\n",
      "        -3.2887e-02,  1.5253e-02, -3.5011e-02, -2.8469e-02, -2.8833e-02,\n",
      "         3.0257e-02,  3.0441e-02,  2.9600e-02, -1.2790e-02, -1.5398e-02,\n",
      "        -1.3631e-02, -2.0903e-02,  2.4013e-02, -1.3732e-02, -5.5232e-03,\n",
      "        -3.3683e-02, -1.1297e-03, -3.3393e-02], requires_grad=True)\n"
     ]
    }
   ],
   "source": [
    "print(model.fc1.weight)\n",
    "print(model.fc1.bias)"
   ]
  },
  {
   "cell_type": "markdown",
   "metadata": {},
   "source": [
    "For custom initialization, we want to modify these tensors in place. These are actually autograd *Variables*, so we need to get back the actual tensors with `model.fc1.weight.data`. Once we have the tensors, we can fill them with zeros (for biases) or random normal values."
   ]
  },
  {
   "cell_type": "code",
   "execution_count": 64,
   "metadata": {},
   "outputs": [
    {
     "data": {
      "text/plain": [
       "tensor([0., 0., 0., 0., 0., 0., 0., 0., 0., 0., 0., 0., 0., 0., 0., 0., 0., 0., 0., 0., 0., 0., 0., 0.,\n",
       "        0., 0., 0., 0., 0., 0., 0., 0., 0., 0., 0., 0., 0., 0., 0., 0., 0., 0., 0., 0., 0., 0., 0., 0.,\n",
       "        0., 0., 0., 0., 0., 0., 0., 0., 0., 0., 0., 0., 0., 0., 0., 0., 0., 0., 0., 0., 0., 0., 0., 0.,\n",
       "        0., 0., 0., 0., 0., 0., 0., 0., 0., 0., 0., 0., 0., 0., 0., 0., 0., 0., 0., 0., 0., 0., 0., 0.,\n",
       "        0., 0., 0., 0., 0., 0., 0., 0., 0., 0., 0., 0., 0., 0., 0., 0., 0., 0., 0., 0., 0., 0., 0., 0.,\n",
       "        0., 0., 0., 0., 0., 0., 0., 0.])"
      ]
     },
     "execution_count": 64,
     "metadata": {},
     "output_type": "execute_result"
    }
   ],
   "source": [
    "# Set biases to all zeros\n",
    "model.fc1.bias.data.fill_(0)"
   ]
  },
  {
   "cell_type": "code",
   "execution_count": 65,
   "metadata": {},
   "outputs": [
    {
     "data": {
      "text/plain": [
       "tensor([[-0.0084, -0.0027, -0.0018,  ...,  0.0140, -0.0116, -0.0098],\n",
       "        [-0.0160, -0.0097,  0.0169,  ..., -0.0004, -0.0133, -0.0082],\n",
       "        [ 0.0137,  0.0060, -0.0167,  ..., -0.0076, -0.0015, -0.0173],\n",
       "        ...,\n",
       "        [-0.0129,  0.0225, -0.0237,  ..., -0.0083,  0.0242,  0.0190],\n",
       "        [ 0.0056,  0.0063,  0.0042,  ..., -0.0094, -0.0119, -0.0012],\n",
       "        [ 0.0086, -0.0097, -0.0052,  ...,  0.0056,  0.0081,  0.0094]])"
      ]
     },
     "execution_count": 65,
     "metadata": {},
     "output_type": "execute_result"
    }
   ],
   "source": [
    "# sample from random normal with standard dev = 0.01\n",
    "model.fc1.weight.data.normal_(std=0.01)"
   ]
  },
  {
   "cell_type": "markdown",
   "metadata": {},
   "source": [
    "### Forward pass\n",
    "\n",
    "Now that we have a network, let's see what happens when we pass in an image."
   ]
  },
  {
   "cell_type": "code",
   "execution_count": 66,
   "metadata": {},
   "outputs": [
    {
     "data": {
      "image/png": "[encoded data removed]",
      "text/plain": [
       "<Figure size 600x900 with 2 Axes>"
      ]
     },
     "metadata": {
      "image/png": {
       "height": 327,
       "width": 589
      }
     },
     "output_type": "display_data"
    }
   ],
   "source": [
    "# Grab some data \n",
    "dataiter = iter(trainloader)\n",
    "images, labels = next(dataiter)\n",
    "\n",
    "# Resize images into a 1D vector, new shape is (batch size, color channels, image pixels) \n",
    "images.resize_(64, 1, 784)\n",
    "# or images.resize_(images.shape[0], 1, 784) to automatically get batch size\n",
    "\n",
    "# Forward pass through the network\n",
    "img_idx = 0\n",
    "ps = model.forward(images[img_idx,:])\n",
    "\n",
    "img = images[img_idx]\n",
    "helper.view_classify(img.view(1, 28, 28), ps)"
   ]
  },
  {
   "cell_type": "markdown",
   "metadata": {},
   "source": [
    "As you can see above, our network has basically no idea what this digit is. It's because we haven't trained it yet, all the weights are random!\n",
    "\n",
    "### Using `nn.Sequential`\n",
    "\n",
    "PyTorch provides a convenient way to build networks like this where a tensor is passed sequentially through operations, `nn.Sequential` ([documentation](https://pytorch.org/docs/master/nn.html#torch.nn.Sequential)). Using this to build the equivalent network:"
   ]
  },
  {
   "cell_type": "code",
   "execution_count": 67,
   "metadata": {},
   "outputs": [
    {
     "name": "stdout",
     "output_type": "stream",
     "text": [
      "Sequential(\n",
      "  (0): Linear(in_features=784, out_features=128, bias=True)\n",
      "  (1): ReLU()\n",
      "  (2): Linear(in_features=128, out_features=64, bias=True)\n",
      "  (3): ReLU()\n",
      "  (4): Linear(in_features=64, out_features=10, bias=True)\n",
      "  (5): Softmax(dim=1)\n",
      ")\n"
     ]
    },
    {
     "data": {
      "image/png": "[encoded data removed]",
      "text/plain": [
       "<Figure size 600x900 with 2 Axes>"
      ]
     },
     "metadata": {
      "image/png": {
       "height": 327,
       "width": 589
      }
     },
     "output_type": "display_data"
    }
   ],
   "source": [
    "# Hyperparameters for our network\n",
    "input_size = 784\n",
    "hidden_sizes = [128, 64]\n",
    "output_size = 10\n",
    "\n",
    "# Build a feed-forward network\n",
    "model = nn.Sequential(nn.Linear(input_size, hidden_sizes[0]),\n",
    "                      nn.ReLU(),\n",
    "                      nn.Linear(hidden_sizes[0], hidden_sizes[1]),\n",
    "                      nn.ReLU(),\n",
    "                      nn.Linear(hidden_sizes[1], output_size),\n",
    "                      nn.Softmax(dim=1))\n",
    "print(model)\n",
    "\n",
    "# Forward pass through the network and display output\n",
    "images, labels = next(iter(trainloader))\n",
    "images.resize_(images.shape[0], 1, 784)\n",
    "ps = model.forward(images[0,:])\n",
    "helper.view_classify(images[0].view(1, 28, 28), ps)"
   ]
  },
  {
   "cell_type": "markdown",
   "metadata": {},
   "source": [
    "Here our model is the same as before: 784 input units, a hidden layer with 128 units, ReLU activation, 64 unit hidden layer, another ReLU, then the output layer with 10 units, and the softmax output.\n",
    "\n",
    "The operations are available by passing in the appropriate index. For example, if you want to get first Linear operation and look at the weights, you'd use `model[0]`."
   ]
  },
  {
   "cell_type": "code",
   "execution_count": 68,
   "metadata": {},
   "outputs": [
    {
     "name": "stdout",
     "output_type": "stream",
     "text": [
      "Linear(in_features=784, out_features=128, bias=True)\n"
     ]
    },
    {
     "data": {
      "text/plain": [
       "Parameter containing:\n",
       "tensor([[-0.0289,  0.0279, -0.0026,  ...,  0.0353, -0.0037,  0.0198],\n",
       "        [ 0.0325,  0.0134,  0.0347,  ..., -0.0300, -0.0211, -0.0170],\n",
       "        [ 0.0196,  0.0160, -0.0190,  ...,  0.0238,  0.0075, -0.0236],\n",
       "        ...,\n",
       "        [-0.0045,  0.0286, -0.0101,  ...,  0.0010,  0.0188,  0.0125],\n",
       "        [-0.0337, -0.0352,  0.0081,  ..., -0.0068,  0.0229, -0.0301],\n",
       "        [ 0.0015, -0.0166, -0.0349,  ...,  0.0256, -0.0290, -0.0014]],\n",
       "       requires_grad=True)"
      ]
     },
     "execution_count": 68,
     "metadata": {},
     "output_type": "execute_result"
    }
   ],
   "source": [
    "print(model[0])\n",
    "model[0].weight"
   ]
  },
  {
   "cell_type": "markdown",
   "metadata": {},
   "source": [
    "You can also pass in an `OrderedDict` to name the individual layers and operations, instead of using incremental integers. Note that dictionary keys must be unique, so _each operation must have a different name_."
   ]
  },
  {
   "cell_type": "code",
   "execution_count": 69,
   "metadata": {},
   "outputs": [
    {
     "data": {
      "text/plain": [
       "Sequential(\n",
       "  (fc1): Linear(in_features=784, out_features=128, bias=True)\n",
       "  (relu1): ReLU()\n",
       "  (fc2): Linear(in_features=128, out_features=64, bias=True)\n",
       "  (relu2): ReLU()\n",
       "  (output): Linear(in_features=64, out_features=10, bias=True)\n",
       "  (softmax): Softmax(dim=1)\n",
       ")"
      ]
     },
     "execution_count": 69,
     "metadata": {},
     "output_type": "execute_result"
    }
   ],
   "source": [
    "from collections import OrderedDict\n",
    "model = nn.Sequential(OrderedDict([\n",
    "                      ('fc1', nn.Linear(input_size, hidden_sizes[0])),\n",
    "                      ('relu1', nn.ReLU()),\n",
    "                      ('fc2', nn.Linear(hidden_sizes[0], hidden_sizes[1])),\n",
    "                      ('relu2', nn.ReLU()),\n",
    "                      ('output', nn.Linear(hidden_sizes[1], output_size)),\n",
    "                      ('softmax', nn.Softmax(dim=1))]))\n",
    "model"
   ]
  },
  {
   "cell_type": "markdown",
   "metadata": {},
   "source": [
    "Now you can access layers either by integer or the name"
   ]
  },
  {
   "cell_type": "code",
   "execution_count": null,
   "metadata": {
    "collapsed": true
   },
   "outputs": [],
   "source": [
    "print(model[0])\n",
    "print(model.fc1)"
   ]
  },
  {
   "cell_type": "markdown",
   "metadata": {},
   "source": [
    "In the next notebook, we'll see how we can train a neural network to accuractly predict the numbers appearing in the MNIST images."
   ]
  }
 ],
 "metadata": {
  "kernelspec": {
   "display_name": "Python 3 (ipykernel)",
   "language": "python",
   "name": "python3"
  },
  "language_info": {
   "codemirror_mode": {
    "name": "ipython",
    "version": 3
   },
   "file_extension": ".py",
   "mimetype": "text/x-python",
   "name": "python",
   "nbconvert_exporter": "python",
   "pygments_lexer": "ipython3",
   "version": "3.9.13"
  }
 },
 "nbformat": 4,
 "nbformat_minor": 2
}
